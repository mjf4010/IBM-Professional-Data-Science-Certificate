{
    "cells": [
        {
            "cell_type": "markdown",
            "metadata": {
                "collapsed": true
            },
            "source": "# Captsone project for the IBM Data Science Professional Certificate \n\n(https://www.coursera.org/professional-certificates/ibm-data-science?#courses)"
        },
        {
            "cell_type": "code",
            "execution_count": 1,
            "metadata": {},
            "outputs": [
                {
                    "name": "stdout",
                    "output_type": "stream",
                    "text": "Import Completed\n"
                }
            ],
            "source": "import pandas as pd\nimport numpy as np\nimport matplotlib.pyplot as plt\nprint(\"Import Completed\")"
        },
        {
            "cell_type": "code",
            "execution_count": 2,
            "metadata": {},
            "outputs": [
                {
                    "name": "stdout",
                    "output_type": "stream",
                    "text": "CSV read into dataframe\n"
                },
                {
                    "name": "stderr",
                    "output_type": "stream",
                    "text": "/opt/conda/envs/Python36/lib/python3.6/site-packages/IPython/core/interactiveshell.py:3020: DtypeWarning: Columns (33) have mixed types. Specify dtype option on import or set low_memory=False.\n  interactivity=interactivity, compiler=compiler, result=result)\n"
                }
            ],
            "source": "# The code was removed by Watson Studio for sharing."
        },
        {
            "cell_type": "markdown",
            "metadata": {},
            "source": "# 1. Data Exploration"
        },
        {
            "cell_type": "markdown",
            "metadata": {},
            "source": "### A. Find the Nulls"
        },
        {
            "cell_type": "code",
            "execution_count": 3,
            "metadata": {},
            "outputs": [
                {
                    "data": {
                        "text/html": "<div>\n<style scoped>\n    .dataframe tbody tr th:only-of-type {\n        vertical-align: middle;\n    }\n\n    .dataframe tbody tr th {\n        vertical-align: top;\n    }\n\n    .dataframe thead th {\n        text-align: right;\n    }\n</style>\n<table border=\"1\" class=\"dataframe\">\n  <thead>\n    <tr style=\"text-align: right;\">\n      <th></th>\n      <th>FEATURE</th>\n      <th># OF UNIQUE</th>\n      <th>UNIQUE VALUES AS AN ARRAY</th>\n      <th>DATA TYPE</th>\n      <th># OF NULLS</th>\n      <th>% OF VALUES THAT ARE NULLS</th>\n    </tr>\n  </thead>\n  <tbody>\n    <tr>\n      <th>0</th>\n      <td>SEVERITYCODE</td>\n      <td>2</td>\n      <td>[2, 1]</td>\n      <td>int64</td>\n      <td>0</td>\n      <td>0.000000</td>\n    </tr>\n    <tr>\n      <th>1</th>\n      <td>X</td>\n      <td>23563</td>\n      <td>[-122.32314840000002, -122.3472943, -122.33453...</td>\n      <td>float64</td>\n      <td>5334</td>\n      <td>2.739979</td>\n    </tr>\n    <tr>\n      <th>2</th>\n      <td>Y</td>\n      <td>23839</td>\n      <td>[47.70314032, 47.64717249, 47.60787143, 47.604...</td>\n      <td>float64</td>\n      <td>5334</td>\n      <td>2.739979</td>\n    </tr>\n    <tr>\n      <th>3</th>\n      <td>OBJECTID</td>\n      <td>194673</td>\n      <td>[1, 2, 3, 4, 5, 6, 7, 9, 10, 12, 14, 15, 16, 1...</td>\n      <td>int64</td>\n      <td>0</td>\n      <td>0.000000</td>\n    </tr>\n    <tr>\n      <th>4</th>\n      <td>INCKEY</td>\n      <td>194673</td>\n      <td>[1307, 52200, 26700, 1144, 17700, 320840, 8330...</td>\n      <td>int64</td>\n      <td>0</td>\n      <td>0.000000</td>\n    </tr>\n    <tr>\n      <th>5</th>\n      <td>COLDETKEY</td>\n      <td>194673</td>\n      <td>[1307, 52200, 26700, 1144, 17700, 322340, 8330...</td>\n      <td>int64</td>\n      <td>0</td>\n      <td>0.000000</td>\n    </tr>\n    <tr>\n      <th>6</th>\n      <td>REPORTNO</td>\n      <td>194670</td>\n      <td>[3502005, 2607959, 1482393, 3503937, 1807429, ...</td>\n      <td>object</td>\n      <td>0</td>\n      <td>0.000000</td>\n    </tr>\n    <tr>\n      <th>7</th>\n      <td>STATUS</td>\n      <td>2</td>\n      <td>[Matched, Unmatched]</td>\n      <td>object</td>\n      <td>0</td>\n      <td>0.000000</td>\n    </tr>\n    <tr>\n      <th>8</th>\n      <td>ADDRTYPE</td>\n      <td>3</td>\n      <td>[Intersection, Block, Alley, nan]</td>\n      <td>object</td>\n      <td>1926</td>\n      <td>0.989351</td>\n    </tr>\n    <tr>\n      <th>9</th>\n      <td>INTKEY</td>\n      <td>7614</td>\n      <td>[37475.0, nan, 34387.0, 36974.0, 29510.0, 2974...</td>\n      <td>float64</td>\n      <td>129603</td>\n      <td>66.574718</td>\n    </tr>\n    <tr>\n      <th>10</th>\n      <td>LOCATION</td>\n      <td>24102</td>\n      <td>[5TH AVE NE AND NE 103RD ST, AURORA BR BETWEEN...</td>\n      <td>object</td>\n      <td>2677</td>\n      <td>1.375126</td>\n    </tr>\n    <tr>\n      <th>11</th>\n      <td>EXCEPTRSNCODE</td>\n      <td>2</td>\n      <td>[ , nan, NEI]</td>\n      <td>object</td>\n      <td>109862</td>\n      <td>56.434123</td>\n    </tr>\n    <tr>\n      <th>12</th>\n      <td>EXCEPTRSNDESC</td>\n      <td>1</td>\n      <td>[nan, Not Enough Information, or Insufficient ...</td>\n      <td>object</td>\n      <td>189035</td>\n      <td>97.103861</td>\n    </tr>\n    <tr>\n      <th>13</th>\n      <td>SEVERITYCODE.1</td>\n      <td>2</td>\n      <td>[2, 1]</td>\n      <td>int64</td>\n      <td>0</td>\n      <td>0.000000</td>\n    </tr>\n    <tr>\n      <th>14</th>\n      <td>SEVERITYDESC</td>\n      <td>2</td>\n      <td>[Injury Collision, Property Damage Only Collis...</td>\n      <td>object</td>\n      <td>0</td>\n      <td>0.000000</td>\n    </tr>\n    <tr>\n      <th>15</th>\n      <td>COLLISIONTYPE</td>\n      <td>10</td>\n      <td>[Angles, Sideswipe, Parked Car, Other, Cycles,...</td>\n      <td>object</td>\n      <td>4904</td>\n      <td>2.519096</td>\n    </tr>\n    <tr>\n      <th>16</th>\n      <td>PERSONCOUNT</td>\n      <td>47</td>\n      <td>[2, 4, 3, 0, 1, 5, 6, 16, 8, 7, 11, 9, 12, 17,...</td>\n      <td>int64</td>\n      <td>0</td>\n      <td>0.000000</td>\n    </tr>\n    <tr>\n      <th>17</th>\n      <td>PEDCOUNT</td>\n      <td>7</td>\n      <td>[0, 1, 2, 3, 4, 5, 6]</td>\n      <td>int64</td>\n      <td>0</td>\n      <td>0.000000</td>\n    </tr>\n    <tr>\n      <th>18</th>\n      <td>PEDCYLCOUNT</td>\n      <td>3</td>\n      <td>[0, 1, 2]</td>\n      <td>int64</td>\n      <td>0</td>\n      <td>0.000000</td>\n    </tr>\n    <tr>\n      <th>19</th>\n      <td>VEHCOUNT</td>\n      <td>13</td>\n      <td>[2, 3, 1, 0, 4, 7, 5, 6, 8, 11, 9, 10, 12]</td>\n      <td>int64</td>\n      <td>0</td>\n      <td>0.000000</td>\n    </tr>\n    <tr>\n      <th>20</th>\n      <td>INCDATE</td>\n      <td>5985</td>\n      <td>[2013/03/27 00:00:00+00, 2006/12/20 00:00:00+0...</td>\n      <td>object</td>\n      <td>0</td>\n      <td>0.000000</td>\n    </tr>\n    <tr>\n      <th>21</th>\n      <td>INCDTTM</td>\n      <td>162058</td>\n      <td>[3/27/2013 2:54:00 PM, 12/20/2006 6:55:00 PM, ...</td>\n      <td>object</td>\n      <td>0</td>\n      <td>0.000000</td>\n    </tr>\n    <tr>\n      <th>22</th>\n      <td>JUNCTIONTYPE</td>\n      <td>7</td>\n      <td>[At Intersection (intersection related), Mid-B...</td>\n      <td>object</td>\n      <td>6329</td>\n      <td>3.251093</td>\n    </tr>\n    <tr>\n      <th>23</th>\n      <td>SDOT_COLCODE</td>\n      <td>39</td>\n      <td>[11, 16, 14, 51, 13, 26, 28, 18, 34, 0, 24, 69...</td>\n      <td>int64</td>\n      <td>0</td>\n      <td>0.000000</td>\n    </tr>\n    <tr>\n      <th>24</th>\n      <td>SDOT_COLDESC</td>\n      <td>39</td>\n      <td>[MOTOR VEHICLE STRUCK MOTOR VEHICLE, FRONT END...</td>\n      <td>object</td>\n      <td>0</td>\n      <td>0.000000</td>\n    </tr>\n    <tr>\n      <th>25</th>\n      <td>INATTENTIONIND</td>\n      <td>1</td>\n      <td>[nan, Y]</td>\n      <td>object</td>\n      <td>164868</td>\n      <td>84.689710</td>\n    </tr>\n    <tr>\n      <th>26</th>\n      <td>UNDERINFL</td>\n      <td>4</td>\n      <td>[N, 0, nan, 1, Y]</td>\n      <td>object</td>\n      <td>4884</td>\n      <td>2.508822</td>\n    </tr>\n    <tr>\n      <th>27</th>\n      <td>WEATHER</td>\n      <td>11</td>\n      <td>[Overcast, Raining, Clear, nan, Unknown, Other...</td>\n      <td>object</td>\n      <td>5081</td>\n      <td>2.610018</td>\n    </tr>\n    <tr>\n      <th>28</th>\n      <td>ROADCOND</td>\n      <td>9</td>\n      <td>[Wet, Dry, nan, Unknown, Snow/Slush, Ice, Othe...</td>\n      <td>object</td>\n      <td>5012</td>\n      <td>2.574574</td>\n    </tr>\n    <tr>\n      <th>29</th>\n      <td>LIGHTCOND</td>\n      <td>9</td>\n      <td>[Daylight, Dark - Street Lights On, Dark - No ...</td>\n      <td>object</td>\n      <td>5170</td>\n      <td>2.655736</td>\n    </tr>\n    <tr>\n      <th>30</th>\n      <td>PEDROWNOTGRNT</td>\n      <td>1</td>\n      <td>[nan, Y]</td>\n      <td>object</td>\n      <td>190006</td>\n      <td>97.602646</td>\n    </tr>\n    <tr>\n      <th>31</th>\n      <td>SDOTCOLNUM</td>\n      <td>114932</td>\n      <td>[nan, 6354039.0, 4323031.0, 4028032.0, 8344002...</td>\n      <td>float64</td>\n      <td>79737</td>\n      <td>40.959455</td>\n    </tr>\n    <tr>\n      <th>32</th>\n      <td>SPEEDING</td>\n      <td>1</td>\n      <td>[nan, Y]</td>\n      <td>object</td>\n      <td>185340</td>\n      <td>95.205807</td>\n    </tr>\n    <tr>\n      <th>33</th>\n      <td>ST_COLCODE</td>\n      <td>115</td>\n      <td>[10, 11, 32, 23, 5, 22, 14, 30,  , 28, 51, 13,...</td>\n      <td>object</td>\n      <td>18</td>\n      <td>0.009246</td>\n    </tr>\n    <tr>\n      <th>34</th>\n      <td>ST_COLDESC</td>\n      <td>62</td>\n      <td>[Entering at angle, From same direction - both...</td>\n      <td>object</td>\n      <td>4904</td>\n      <td>2.519096</td>\n    </tr>\n    <tr>\n      <th>35</th>\n      <td>SEGLANEKEY</td>\n      <td>1955</td>\n      <td>[0, 6855, 25242, 20579, 29054, 40890, 12978, 1...</td>\n      <td>int64</td>\n      <td>0</td>\n      <td>0.000000</td>\n    </tr>\n    <tr>\n      <th>36</th>\n      <td>CROSSWALKKEY</td>\n      <td>2198</td>\n      <td>[0, 520838, 521466, 521004, 520855, 522958, 52...</td>\n      <td>int64</td>\n      <td>0</td>\n      <td>0.000000</td>\n    </tr>\n    <tr>\n      <th>37</th>\n      <td>HITPARKEDCAR</td>\n      <td>2</td>\n      <td>[N, Y]</td>\n      <td>object</td>\n      <td>0</td>\n      <td>0.000000</td>\n    </tr>\n  </tbody>\n</table>\n</div>",
                        "text/plain": "           FEATURE  # OF UNIQUE  \\\n0     SEVERITYCODE            2   \n1                X        23563   \n2                Y        23839   \n3         OBJECTID       194673   \n4           INCKEY       194673   \n5        COLDETKEY       194673   \n6         REPORTNO       194670   \n7           STATUS            2   \n8         ADDRTYPE            3   \n9           INTKEY         7614   \n10        LOCATION        24102   \n11   EXCEPTRSNCODE            2   \n12   EXCEPTRSNDESC            1   \n13  SEVERITYCODE.1            2   \n14    SEVERITYDESC            2   \n15   COLLISIONTYPE           10   \n16     PERSONCOUNT           47   \n17        PEDCOUNT            7   \n18     PEDCYLCOUNT            3   \n19        VEHCOUNT           13   \n20         INCDATE         5985   \n21         INCDTTM       162058   \n22    JUNCTIONTYPE            7   \n23    SDOT_COLCODE           39   \n24    SDOT_COLDESC           39   \n25  INATTENTIONIND            1   \n26       UNDERINFL            4   \n27         WEATHER           11   \n28        ROADCOND            9   \n29       LIGHTCOND            9   \n30   PEDROWNOTGRNT            1   \n31      SDOTCOLNUM       114932   \n32        SPEEDING            1   \n33      ST_COLCODE          115   \n34      ST_COLDESC           62   \n35      SEGLANEKEY         1955   \n36    CROSSWALKKEY         2198   \n37    HITPARKEDCAR            2   \n\n                            UNIQUE VALUES AS AN ARRAY DATA TYPE  # OF NULLS  \\\n0                                              [2, 1]     int64           0   \n1   [-122.32314840000002, -122.3472943, -122.33453...   float64        5334   \n2   [47.70314032, 47.64717249, 47.60787143, 47.604...   float64        5334   \n3   [1, 2, 3, 4, 5, 6, 7, 9, 10, 12, 14, 15, 16, 1...     int64           0   \n4   [1307, 52200, 26700, 1144, 17700, 320840, 8330...     int64           0   \n5   [1307, 52200, 26700, 1144, 17700, 322340, 8330...     int64           0   \n6   [3502005, 2607959, 1482393, 3503937, 1807429, ...    object           0   \n7                                [Matched, Unmatched]    object           0   \n8                   [Intersection, Block, Alley, nan]    object        1926   \n9   [37475.0, nan, 34387.0, 36974.0, 29510.0, 2974...   float64      129603   \n10  [5TH AVE NE AND NE 103RD ST, AURORA BR BETWEEN...    object        2677   \n11                                      [ , nan, NEI]    object      109862   \n12  [nan, Not Enough Information, or Insufficient ...    object      189035   \n13                                             [2, 1]     int64           0   \n14  [Injury Collision, Property Damage Only Collis...    object           0   \n15  [Angles, Sideswipe, Parked Car, Other, Cycles,...    object        4904   \n16  [2, 4, 3, 0, 1, 5, 6, 16, 8, 7, 11, 9, 12, 17,...     int64           0   \n17                              [0, 1, 2, 3, 4, 5, 6]     int64           0   \n18                                          [0, 1, 2]     int64           0   \n19         [2, 3, 1, 0, 4, 7, 5, 6, 8, 11, 9, 10, 12]     int64           0   \n20  [2013/03/27 00:00:00+00, 2006/12/20 00:00:00+0...    object           0   \n21  [3/27/2013 2:54:00 PM, 12/20/2006 6:55:00 PM, ...    object           0   \n22  [At Intersection (intersection related), Mid-B...    object        6329   \n23  [11, 16, 14, 51, 13, 26, 28, 18, 34, 0, 24, 69...     int64           0   \n24  [MOTOR VEHICLE STRUCK MOTOR VEHICLE, FRONT END...    object           0   \n25                                           [nan, Y]    object      164868   \n26                                  [N, 0, nan, 1, Y]    object        4884   \n27  [Overcast, Raining, Clear, nan, Unknown, Other...    object        5081   \n28  [Wet, Dry, nan, Unknown, Snow/Slush, Ice, Othe...    object        5012   \n29  [Daylight, Dark - Street Lights On, Dark - No ...    object        5170   \n30                                           [nan, Y]    object      190006   \n31  [nan, 6354039.0, 4323031.0, 4028032.0, 8344002...   float64       79737   \n32                                           [nan, Y]    object      185340   \n33  [10, 11, 32, 23, 5, 22, 14, 30,  , 28, 51, 13,...    object          18   \n34  [Entering at angle, From same direction - both...    object        4904   \n35  [0, 6855, 25242, 20579, 29054, 40890, 12978, 1...     int64           0   \n36  [0, 520838, 521466, 521004, 520855, 522958, 52...     int64           0   \n37                                             [N, Y]    object           0   \n\n    % OF VALUES THAT ARE NULLS  \n0                     0.000000  \n1                     2.739979  \n2                     2.739979  \n3                     0.000000  \n4                     0.000000  \n5                     0.000000  \n6                     0.000000  \n7                     0.000000  \n8                     0.989351  \n9                    66.574718  \n10                    1.375126  \n11                   56.434123  \n12                   97.103861  \n13                    0.000000  \n14                    0.000000  \n15                    2.519096  \n16                    0.000000  \n17                    0.000000  \n18                    0.000000  \n19                    0.000000  \n20                    0.000000  \n21                    0.000000  \n22                    3.251093  \n23                    0.000000  \n24                    0.000000  \n25                   84.689710  \n26                    2.508822  \n27                    2.610018  \n28                    2.574574  \n29                    2.655736  \n30                   97.602646  \n31                   40.959455  \n32                   95.205807  \n33                    0.009246  \n34                    2.519096  \n35                    0.000000  \n36                    0.000000  \n37                    0.000000  "
                    },
                    "execution_count": 3,
                    "metadata": {},
                    "output_type": "execute_result"
                }
            ],
            "source": "data1 = []\nfor i in df.columns:\n    data1.append([i, df[i].nunique(), df[i].unique(), df[i].dtypes, df[i].isnull().sum(), (df[i].isnull().sum() / len(df)) * 100])\n    \ndf1 = pd.DataFrame(data1)\ndf1.columns = ['FEATURE', '# OF UNIQUE', 'UNIQUE VALUES AS AN ARRAY', 'DATA TYPE', '# OF NULLS', '% OF VALUES THAT ARE NULLS']\ndf1"
        },
        {
            "cell_type": "markdown",
            "metadata": {},
            "source": "### Clean Data Based on *B. Investigate the Nulls* Results"
        },
        {
            "cell_type": "markdown",
            "metadata": {},
            "source": "#### Drop Features"
        },
        {
            "cell_type": "code",
            "execution_count": 4,
            "metadata": {},
            "outputs": [],
            "source": "# Drop the following features: INTKEY, EXCEPTRSNCODE, EXCEPTRSNDESC, SDOTCOLNUM\n# axis = 1 means drop the whole column\ndfb = df.drop(['INTKEY', 'EXCEPTRSNCODE', 'EXCEPTRSNDESC', 'SDOTCOLNUM'], axis = 1)"
        },
        {
            "cell_type": "code",
            "execution_count": 5,
            "metadata": {},
            "outputs": [
                {
                    "data": {
                        "text/plain": "Index(['SEVERITYCODE', 'X', 'Y', 'OBJECTID', 'INCKEY', 'COLDETKEY', 'REPORTNO',\n       'STATUS', 'ADDRTYPE', 'LOCATION', 'SEVERITYCODE.1', 'SEVERITYDESC',\n       'COLLISIONTYPE', 'PERSONCOUNT', 'PEDCOUNT', 'PEDCYLCOUNT', 'VEHCOUNT',\n       'INCDATE', 'INCDTTM', 'JUNCTIONTYPE', 'SDOT_COLCODE', 'SDOT_COLDESC',\n       'INATTENTIONIND', 'UNDERINFL', 'WEATHER', 'ROADCOND', 'LIGHTCOND',\n       'PEDROWNOTGRNT', 'SPEEDING', 'ST_COLCODE', 'ST_COLDESC', 'SEGLANEKEY',\n       'CROSSWALKKEY', 'HITPARKEDCAR'],\n      dtype='object')"
                    },
                    "execution_count": 5,
                    "metadata": {},
                    "output_type": "execute_result"
                }
            ],
            "source": "dfb.columns"
        },
        {
            "cell_type": "markdown",
            "metadata": {},
            "source": "#### Replace NANs with 'N'"
        },
        {
            "cell_type": "code",
            "execution_count": 6,
            "metadata": {},
            "outputs": [],
            "source": "# Replace NANs with 'N' for the following features: INATTENTIONIND, PEDROWNOTGRNT, SPEEDING\ndfb1 = dfb\ndfb1['INATTENTIONIND'] = dfb1['INATTENTIONIND'].replace(np.nan, 'N')\ndfb1['PEDROWNOTGRNT'] = dfb1['PEDROWNOTGRNT'].replace(np.nan, 'N')"
        },
        {
            "cell_type": "code",
            "execution_count": 7,
            "metadata": {},
            "outputs": [],
            "source": "dfb1['SPEEDING'] = dfb1['SPEEDING'].replace(np.nan, 'N')"
        },
        {
            "cell_type": "code",
            "execution_count": 8,
            "metadata": {},
            "outputs": [
                {
                    "data": {
                        "text/plain": "array(['N', 'Y'], dtype=object)"
                    },
                    "execution_count": 8,
                    "metadata": {},
                    "output_type": "execute_result"
                }
            ],
            "source": "dfb1['INATTENTIONIND'].unique()"
        },
        {
            "cell_type": "code",
            "execution_count": 9,
            "metadata": {},
            "outputs": [
                {
                    "data": {
                        "text/plain": "array(['N', 'Y'], dtype=object)"
                    },
                    "execution_count": 9,
                    "metadata": {},
                    "output_type": "execute_result"
                }
            ],
            "source": "dfb1['PEDROWNOTGRNT'].unique()"
        },
        {
            "cell_type": "code",
            "execution_count": 10,
            "metadata": {},
            "outputs": [
                {
                    "data": {
                        "text/plain": "array(['N', 'Y'], dtype=object)"
                    },
                    "execution_count": 10,
                    "metadata": {},
                    "output_type": "execute_result"
                }
            ],
            "source": "dfb1['SPEEDING'].unique()"
        },
        {
            "cell_type": "code",
            "execution_count": 11,
            "metadata": {},
            "outputs": [
                {
                    "data": {
                        "text/plain": "Index(['SEVERITYCODE', 'X', 'Y', 'OBJECTID', 'INCKEY', 'COLDETKEY', 'REPORTNO',\n       'STATUS', 'ADDRTYPE', 'LOCATION', 'SEVERITYCODE.1', 'SEVERITYDESC',\n       'COLLISIONTYPE', 'PERSONCOUNT', 'PEDCOUNT', 'PEDCYLCOUNT', 'VEHCOUNT',\n       'INCDATE', 'INCDTTM', 'JUNCTIONTYPE', 'SDOT_COLCODE', 'SDOT_COLDESC',\n       'INATTENTIONIND', 'UNDERINFL', 'WEATHER', 'ROADCOND', 'LIGHTCOND',\n       'PEDROWNOTGRNT', 'SPEEDING', 'ST_COLCODE', 'ST_COLDESC', 'SEGLANEKEY',\n       'CROSSWALKKEY', 'HITPARKEDCAR'],\n      dtype='object')"
                    },
                    "execution_count": 11,
                    "metadata": {},
                    "output_type": "execute_result"
                }
            ],
            "source": "dfb1.columns"
        },
        {
            "cell_type": "markdown",
            "metadata": {},
            "source": "### C. Investigate the Remaining Features with Nulls"
        },
        {
            "cell_type": "code",
            "execution_count": 12,
            "metadata": {},
            "outputs": [
                {
                    "data": {
                        "text/html": "<div>\n<style scoped>\n    .dataframe tbody tr th:only-of-type {\n        vertical-align: middle;\n    }\n\n    .dataframe tbody tr th {\n        vertical-align: top;\n    }\n\n    .dataframe thead th {\n        text-align: right;\n    }\n</style>\n<table border=\"1\" class=\"dataframe\">\n  <thead>\n    <tr style=\"text-align: right;\">\n      <th></th>\n      <th>FEATURE</th>\n      <th># OF UNIQUE</th>\n      <th>UNIQUE VALUES AS AN ARRAY</th>\n      <th>DATA TYPE</th>\n      <th># OF NULLS</th>\n      <th>% OF VALUES THAT ARE NULLS</th>\n    </tr>\n  </thead>\n  <tbody>\n    <tr>\n      <th>0</th>\n      <td>SEVERITYCODE</td>\n      <td>2</td>\n      <td>[2, 1]</td>\n      <td>int64</td>\n      <td>0</td>\n      <td>0.000000</td>\n    </tr>\n    <tr>\n      <th>1</th>\n      <td>X</td>\n      <td>23563</td>\n      <td>[-122.32314840000002, -122.3472943, -122.33453...</td>\n      <td>float64</td>\n      <td>5334</td>\n      <td>2.739979</td>\n    </tr>\n    <tr>\n      <th>2</th>\n      <td>Y</td>\n      <td>23839</td>\n      <td>[47.70314032, 47.64717249, 47.60787143, 47.604...</td>\n      <td>float64</td>\n      <td>5334</td>\n      <td>2.739979</td>\n    </tr>\n    <tr>\n      <th>3</th>\n      <td>OBJECTID</td>\n      <td>194673</td>\n      <td>[1, 2, 3, 4, 5, 6, 7, 9, 10, 12, 14, 15, 16, 1...</td>\n      <td>int64</td>\n      <td>0</td>\n      <td>0.000000</td>\n    </tr>\n    <tr>\n      <th>4</th>\n      <td>INCKEY</td>\n      <td>194673</td>\n      <td>[1307, 52200, 26700, 1144, 17700, 320840, 8330...</td>\n      <td>int64</td>\n      <td>0</td>\n      <td>0.000000</td>\n    </tr>\n    <tr>\n      <th>5</th>\n      <td>COLDETKEY</td>\n      <td>194673</td>\n      <td>[1307, 52200, 26700, 1144, 17700, 322340, 8330...</td>\n      <td>int64</td>\n      <td>0</td>\n      <td>0.000000</td>\n    </tr>\n    <tr>\n      <th>6</th>\n      <td>REPORTNO</td>\n      <td>194670</td>\n      <td>[3502005, 2607959, 1482393, 3503937, 1807429, ...</td>\n      <td>object</td>\n      <td>0</td>\n      <td>0.000000</td>\n    </tr>\n    <tr>\n      <th>7</th>\n      <td>STATUS</td>\n      <td>2</td>\n      <td>[Matched, Unmatched]</td>\n      <td>object</td>\n      <td>0</td>\n      <td>0.000000</td>\n    </tr>\n    <tr>\n      <th>8</th>\n      <td>ADDRTYPE</td>\n      <td>3</td>\n      <td>[Intersection, Block, Alley, nan]</td>\n      <td>object</td>\n      <td>1926</td>\n      <td>0.989351</td>\n    </tr>\n    <tr>\n      <th>9</th>\n      <td>LOCATION</td>\n      <td>24102</td>\n      <td>[5TH AVE NE AND NE 103RD ST, AURORA BR BETWEEN...</td>\n      <td>object</td>\n      <td>2677</td>\n      <td>1.375126</td>\n    </tr>\n    <tr>\n      <th>10</th>\n      <td>SEVERITYCODE.1</td>\n      <td>2</td>\n      <td>[2, 1]</td>\n      <td>int64</td>\n      <td>0</td>\n      <td>0.000000</td>\n    </tr>\n    <tr>\n      <th>11</th>\n      <td>SEVERITYDESC</td>\n      <td>2</td>\n      <td>[Injury Collision, Property Damage Only Collis...</td>\n      <td>object</td>\n      <td>0</td>\n      <td>0.000000</td>\n    </tr>\n    <tr>\n      <th>12</th>\n      <td>COLLISIONTYPE</td>\n      <td>10</td>\n      <td>[Angles, Sideswipe, Parked Car, Other, Cycles,...</td>\n      <td>object</td>\n      <td>4904</td>\n      <td>2.519096</td>\n    </tr>\n    <tr>\n      <th>13</th>\n      <td>PERSONCOUNT</td>\n      <td>47</td>\n      <td>[2, 4, 3, 0, 1, 5, 6, 16, 8, 7, 11, 9, 12, 17,...</td>\n      <td>int64</td>\n      <td>0</td>\n      <td>0.000000</td>\n    </tr>\n    <tr>\n      <th>14</th>\n      <td>PEDCOUNT</td>\n      <td>7</td>\n      <td>[0, 1, 2, 3, 4, 5, 6]</td>\n      <td>int64</td>\n      <td>0</td>\n      <td>0.000000</td>\n    </tr>\n    <tr>\n      <th>15</th>\n      <td>PEDCYLCOUNT</td>\n      <td>3</td>\n      <td>[0, 1, 2]</td>\n      <td>int64</td>\n      <td>0</td>\n      <td>0.000000</td>\n    </tr>\n    <tr>\n      <th>16</th>\n      <td>VEHCOUNT</td>\n      <td>13</td>\n      <td>[2, 3, 1, 0, 4, 7, 5, 6, 8, 11, 9, 10, 12]</td>\n      <td>int64</td>\n      <td>0</td>\n      <td>0.000000</td>\n    </tr>\n    <tr>\n      <th>17</th>\n      <td>INCDATE</td>\n      <td>5985</td>\n      <td>[2013/03/27 00:00:00+00, 2006/12/20 00:00:00+0...</td>\n      <td>object</td>\n      <td>0</td>\n      <td>0.000000</td>\n    </tr>\n    <tr>\n      <th>18</th>\n      <td>INCDTTM</td>\n      <td>162058</td>\n      <td>[3/27/2013 2:54:00 PM, 12/20/2006 6:55:00 PM, ...</td>\n      <td>object</td>\n      <td>0</td>\n      <td>0.000000</td>\n    </tr>\n    <tr>\n      <th>19</th>\n      <td>JUNCTIONTYPE</td>\n      <td>7</td>\n      <td>[At Intersection (intersection related), Mid-B...</td>\n      <td>object</td>\n      <td>6329</td>\n      <td>3.251093</td>\n    </tr>\n    <tr>\n      <th>20</th>\n      <td>SDOT_COLCODE</td>\n      <td>39</td>\n      <td>[11, 16, 14, 51, 13, 26, 28, 18, 34, 0, 24, 69...</td>\n      <td>int64</td>\n      <td>0</td>\n      <td>0.000000</td>\n    </tr>\n    <tr>\n      <th>21</th>\n      <td>SDOT_COLDESC</td>\n      <td>39</td>\n      <td>[MOTOR VEHICLE STRUCK MOTOR VEHICLE, FRONT END...</td>\n      <td>object</td>\n      <td>0</td>\n      <td>0.000000</td>\n    </tr>\n    <tr>\n      <th>22</th>\n      <td>INATTENTIONIND</td>\n      <td>2</td>\n      <td>[N, Y]</td>\n      <td>object</td>\n      <td>0</td>\n      <td>0.000000</td>\n    </tr>\n    <tr>\n      <th>23</th>\n      <td>UNDERINFL</td>\n      <td>4</td>\n      <td>[N, 0, nan, 1, Y]</td>\n      <td>object</td>\n      <td>4884</td>\n      <td>2.508822</td>\n    </tr>\n    <tr>\n      <th>24</th>\n      <td>WEATHER</td>\n      <td>11</td>\n      <td>[Overcast, Raining, Clear, nan, Unknown, Other...</td>\n      <td>object</td>\n      <td>5081</td>\n      <td>2.610018</td>\n    </tr>\n    <tr>\n      <th>25</th>\n      <td>ROADCOND</td>\n      <td>9</td>\n      <td>[Wet, Dry, nan, Unknown, Snow/Slush, Ice, Othe...</td>\n      <td>object</td>\n      <td>5012</td>\n      <td>2.574574</td>\n    </tr>\n    <tr>\n      <th>26</th>\n      <td>LIGHTCOND</td>\n      <td>9</td>\n      <td>[Daylight, Dark - Street Lights On, Dark - No ...</td>\n      <td>object</td>\n      <td>5170</td>\n      <td>2.655736</td>\n    </tr>\n    <tr>\n      <th>27</th>\n      <td>PEDROWNOTGRNT</td>\n      <td>2</td>\n      <td>[N, Y]</td>\n      <td>object</td>\n      <td>0</td>\n      <td>0.000000</td>\n    </tr>\n    <tr>\n      <th>28</th>\n      <td>SPEEDING</td>\n      <td>2</td>\n      <td>[N, Y]</td>\n      <td>object</td>\n      <td>0</td>\n      <td>0.000000</td>\n    </tr>\n    <tr>\n      <th>29</th>\n      <td>ST_COLCODE</td>\n      <td>115</td>\n      <td>[10, 11, 32, 23, 5, 22, 14, 30,  , 28, 51, 13,...</td>\n      <td>object</td>\n      <td>18</td>\n      <td>0.009246</td>\n    </tr>\n    <tr>\n      <th>30</th>\n      <td>ST_COLDESC</td>\n      <td>62</td>\n      <td>[Entering at angle, From same direction - both...</td>\n      <td>object</td>\n      <td>4904</td>\n      <td>2.519096</td>\n    </tr>\n    <tr>\n      <th>31</th>\n      <td>SEGLANEKEY</td>\n      <td>1955</td>\n      <td>[0, 6855, 25242, 20579, 29054, 40890, 12978, 1...</td>\n      <td>int64</td>\n      <td>0</td>\n      <td>0.000000</td>\n    </tr>\n    <tr>\n      <th>32</th>\n      <td>CROSSWALKKEY</td>\n      <td>2198</td>\n      <td>[0, 520838, 521466, 521004, 520855, 522958, 52...</td>\n      <td>int64</td>\n      <td>0</td>\n      <td>0.000000</td>\n    </tr>\n    <tr>\n      <th>33</th>\n      <td>HITPARKEDCAR</td>\n      <td>2</td>\n      <td>[N, Y]</td>\n      <td>object</td>\n      <td>0</td>\n      <td>0.000000</td>\n    </tr>\n  </tbody>\n</table>\n</div>",
                        "text/plain": "           FEATURE  # OF UNIQUE  \\\n0     SEVERITYCODE            2   \n1                X        23563   \n2                Y        23839   \n3         OBJECTID       194673   \n4           INCKEY       194673   \n5        COLDETKEY       194673   \n6         REPORTNO       194670   \n7           STATUS            2   \n8         ADDRTYPE            3   \n9         LOCATION        24102   \n10  SEVERITYCODE.1            2   \n11    SEVERITYDESC            2   \n12   COLLISIONTYPE           10   \n13     PERSONCOUNT           47   \n14        PEDCOUNT            7   \n15     PEDCYLCOUNT            3   \n16        VEHCOUNT           13   \n17         INCDATE         5985   \n18         INCDTTM       162058   \n19    JUNCTIONTYPE            7   \n20    SDOT_COLCODE           39   \n21    SDOT_COLDESC           39   \n22  INATTENTIONIND            2   \n23       UNDERINFL            4   \n24         WEATHER           11   \n25        ROADCOND            9   \n26       LIGHTCOND            9   \n27   PEDROWNOTGRNT            2   \n28        SPEEDING            2   \n29      ST_COLCODE          115   \n30      ST_COLDESC           62   \n31      SEGLANEKEY         1955   \n32    CROSSWALKKEY         2198   \n33    HITPARKEDCAR            2   \n\n                            UNIQUE VALUES AS AN ARRAY DATA TYPE  # OF NULLS  \\\n0                                              [2, 1]     int64           0   \n1   [-122.32314840000002, -122.3472943, -122.33453...   float64        5334   \n2   [47.70314032, 47.64717249, 47.60787143, 47.604...   float64        5334   \n3   [1, 2, 3, 4, 5, 6, 7, 9, 10, 12, 14, 15, 16, 1...     int64           0   \n4   [1307, 52200, 26700, 1144, 17700, 320840, 8330...     int64           0   \n5   [1307, 52200, 26700, 1144, 17700, 322340, 8330...     int64           0   \n6   [3502005, 2607959, 1482393, 3503937, 1807429, ...    object           0   \n7                                [Matched, Unmatched]    object           0   \n8                   [Intersection, Block, Alley, nan]    object        1926   \n9   [5TH AVE NE AND NE 103RD ST, AURORA BR BETWEEN...    object        2677   \n10                                             [2, 1]     int64           0   \n11  [Injury Collision, Property Damage Only Collis...    object           0   \n12  [Angles, Sideswipe, Parked Car, Other, Cycles,...    object        4904   \n13  [2, 4, 3, 0, 1, 5, 6, 16, 8, 7, 11, 9, 12, 17,...     int64           0   \n14                              [0, 1, 2, 3, 4, 5, 6]     int64           0   \n15                                          [0, 1, 2]     int64           0   \n16         [2, 3, 1, 0, 4, 7, 5, 6, 8, 11, 9, 10, 12]     int64           0   \n17  [2013/03/27 00:00:00+00, 2006/12/20 00:00:00+0...    object           0   \n18  [3/27/2013 2:54:00 PM, 12/20/2006 6:55:00 PM, ...    object           0   \n19  [At Intersection (intersection related), Mid-B...    object        6329   \n20  [11, 16, 14, 51, 13, 26, 28, 18, 34, 0, 24, 69...     int64           0   \n21  [MOTOR VEHICLE STRUCK MOTOR VEHICLE, FRONT END...    object           0   \n22                                             [N, Y]    object           0   \n23                                  [N, 0, nan, 1, Y]    object        4884   \n24  [Overcast, Raining, Clear, nan, Unknown, Other...    object        5081   \n25  [Wet, Dry, nan, Unknown, Snow/Slush, Ice, Othe...    object        5012   \n26  [Daylight, Dark - Street Lights On, Dark - No ...    object        5170   \n27                                             [N, Y]    object           0   \n28                                             [N, Y]    object           0   \n29  [10, 11, 32, 23, 5, 22, 14, 30,  , 28, 51, 13,...    object          18   \n30  [Entering at angle, From same direction - both...    object        4904   \n31  [0, 6855, 25242, 20579, 29054, 40890, 12978, 1...     int64           0   \n32  [0, 520838, 521466, 521004, 520855, 522958, 52...     int64           0   \n33                                             [N, Y]    object           0   \n\n    % OF VALUES THAT ARE NULLS  \n0                     0.000000  \n1                     2.739979  \n2                     2.739979  \n3                     0.000000  \n4                     0.000000  \n5                     0.000000  \n6                     0.000000  \n7                     0.000000  \n8                     0.989351  \n9                     1.375126  \n10                    0.000000  \n11                    0.000000  \n12                    2.519096  \n13                    0.000000  \n14                    0.000000  \n15                    0.000000  \n16                    0.000000  \n17                    0.000000  \n18                    0.000000  \n19                    3.251093  \n20                    0.000000  \n21                    0.000000  \n22                    0.000000  \n23                    2.508822  \n24                    2.610018  \n25                    2.574574  \n26                    2.655736  \n27                    0.000000  \n28                    0.000000  \n29                    0.009246  \n30                    2.519096  \n31                    0.000000  \n32                    0.000000  \n33                    0.000000  "
                    },
                    "execution_count": 12,
                    "metadata": {},
                    "output_type": "execute_result"
                }
            ],
            "source": "data2 = []\n\nfor i in dfb1.columns:\n    data2.append([i, dfb1[i].nunique(), dfb1[i].unique(), dfb1[i].dtypes, dfb1[i].isnull().sum(), (dfb1[i].isnull().sum() / len(dfb1)) * 100])\n    \ndf2 = pd.DataFrame(data2)\ndf2.columns = ['FEATURE', '# OF UNIQUE', 'UNIQUE VALUES AS AN ARRAY', 'DATA TYPE', '# OF NULLS', '% OF VALUES THAT ARE NULLS']\ndf2"
        },
        {
            "cell_type": "markdown",
            "metadata": {},
            "source": "### Clean Data Based on *C. Investigate the Remaining Features with Nulls* Results"
        },
        {
            "cell_type": "markdown",
            "metadata": {},
            "source": "#### Drop Rows with Null Values"
        },
        {
            "cell_type": "code",
            "execution_count": 13,
            "metadata": {},
            "outputs": [
                {
                    "name": "stdout",
                    "output_type": "stream",
                    "text": "Index(['SEVERITYCODE', 'X', 'Y', 'OBJECTID', 'INCKEY', 'COLDETKEY', 'REPORTNO',\n       'STATUS', 'ADDRTYPE', 'LOCATION', 'SEVERITYCODE.1', 'SEVERITYDESC',\n       'COLLISIONTYPE', 'PERSONCOUNT', 'PEDCOUNT', 'PEDCYLCOUNT', 'VEHCOUNT',\n       'INCDATE', 'INCDTTM', 'JUNCTIONTYPE', 'SDOT_COLCODE', 'SDOT_COLDESC',\n       'INATTENTIONIND', 'UNDERINFL', 'WEATHER', 'ROADCOND', 'LIGHTCOND',\n       'PEDROWNOTGRNT', 'SPEEDING', 'ST_COLCODE', 'ST_COLDESC', 'SEGLANEKEY',\n       'CROSSWALKKEY', 'HITPARKEDCAR'],\n      dtype='object')\nSEVERITYCODE      0.000000\nX                 1.546242\nY                 1.546242\nOBJECTID          0.000000\nINCKEY            0.000000\nCOLDETKEY         0.000000\nREPORTNO          0.000000\nSTATUS            0.000000\nADDRTYPE          0.000000\nLOCATION          0.128489\nSEVERITYCODE.1    0.000000\nSEVERITYDESC      0.000000\nCOLLISIONTYPE     0.000000\nPERSONCOUNT       0.000000\nPEDCOUNT          0.000000\nPEDCYLCOUNT       0.000000\nVEHCOUNT          0.000000\nINCDATE           0.000000\nINCDTTM           0.000000\nJUNCTIONTYPE      0.000000\nSDOT_COLCODE      0.000000\nSDOT_COLDESC      0.000000\nINATTENTIONIND    0.000000\nUNDERINFL         0.000000\nWEATHER           0.000000\nROADCOND          0.000000\nLIGHTCOND         0.000000\nPEDROWNOTGRNT     0.000000\nSPEEDING          0.000000\nST_COLCODE        0.000000\nST_COLDESC        0.000000\nSEGLANEKEY        0.000000\nCROSSWALKKEY      0.000000\nHITPARKEDCAR      0.000000\ndtype: float64\n"
                }
            ],
            "source": "# Drop rows with null values for the following features: ADDRTYPE, COLLISIONTYPE, JUNCTIONTYPE, UNDERINFL, WEATHER, ROADCOND, LIGHTCOND\n# axis = 0 means to drop rows where NANs are the values for the abovementioned features\ndfc = dfb1.dropna(subset=['ADDRTYPE', 'COLLISIONTYPE', 'JUNCTIONTYPE', 'UNDERINFL', 'WEATHER', 'ROADCOND', 'LIGHTCOND'], axis = 0)\n\nnvs = dfc.isnull().sum()\nnvs_per = (nvs / dfc['SEVERITYCODE'].count()) * 100\n\nprint(dfc.columns)\nprint(nvs_per)"
        },
        {
            "cell_type": "markdown",
            "metadata": {},
            "source": "#### Drop Features Deemed Unnecessary or Redundant"
        },
        {
            "cell_type": "code",
            "execution_count": 14,
            "metadata": {},
            "outputs": [
                {
                    "data": {
                        "text/plain": "Index(['SEVERITYCODE', 'OBJECTID', 'INCKEY', 'COLDETKEY', 'REPORTNO', 'STATUS',\n       'ADDRTYPE', 'SEVERITYCODE.1', 'SEVERITYDESC', 'COLLISIONTYPE',\n       'PERSONCOUNT', 'PEDCOUNT', 'PEDCYLCOUNT', 'VEHCOUNT', 'INCDATE',\n       'INCDTTM', 'JUNCTIONTYPE', 'SDOT_COLCODE', 'SDOT_COLDESC',\n       'INATTENTIONIND', 'UNDERINFL', 'WEATHER', 'ROADCOND', 'LIGHTCOND',\n       'PEDROWNOTGRNT', 'SPEEDING', 'SEGLANEKEY', 'CROSSWALKKEY',\n       'HITPARKEDCAR'],\n      dtype='object')"
                    },
                    "execution_count": 14,
                    "metadata": {},
                    "output_type": "execute_result"
                }
            ],
            "source": "# Drop the following features: X, Y, LOCATION, ST_COLCODE, ST_COLDESC\ndfc1 = dfc.drop(['X', 'Y', 'LOCATION', 'ST_COLCODE', 'ST_COLDESC'], axis = 1)\ndfc1.columns"
        },
        {
            "cell_type": "markdown",
            "metadata": {},
            "source": "#### Replacing 0s with Ns and 1s with Ys"
        },
        {
            "cell_type": "code",
            "execution_count": 15,
            "metadata": {},
            "outputs": [
                {
                    "data": {
                        "text/plain": "array(['N', 'Y'], dtype=object)"
                    },
                    "execution_count": 15,
                    "metadata": {},
                    "output_type": "execute_result"
                }
            ],
            "source": "dfc2 = dfc1\ndfc2['UNDERINFL'] = dfc2['UNDERINFL'].replace('0', 'N')\ndfc2['UNDERINFL'] = dfc2['UNDERINFL'].replace('1', 'Y')\ndfc2['UNDERINFL'].unique()"
        },
        {
            "cell_type": "markdown",
            "metadata": {},
            "source": "#### Removing Rows with Unknown as their values"
        },
        {
            "cell_type": "code",
            "execution_count": 16,
            "metadata": {},
            "outputs": [],
            "source": "# Cleaning WEATHER rows\nindexWeather = dfc2[dfc2['WEATHER'] == 'Unknown'].index\ndfc3 = dfc2.drop(indexWeather, axis = 0)"
        },
        {
            "cell_type": "code",
            "execution_count": 17,
            "metadata": {},
            "outputs": [],
            "source": "# Cleaning ROADCOND rows\nindexRoad = dfc3[dfc3['ROADCOND'] == 'Unknown'].index\ndfc3 = dfc3.drop(indexRoad, axis = 0)"
        },
        {
            "cell_type": "code",
            "execution_count": 18,
            "metadata": {},
            "outputs": [],
            "source": "# Cleaning LIGHTCOND rows\nindexLight = dfc3[dfc3['LIGHTCOND'] == 'Unknown'].index\ndfc3 = dfc3.drop(indexLight, axis = 0)"
        },
        {
            "cell_type": "code",
            "execution_count": 19,
            "metadata": {},
            "outputs": [
                {
                    "name": "stdout",
                    "output_type": "stream",
                    "text": "WEATHER uniques:  ['Overcast' 'Raining' 'Clear' 'Snowing' 'Other' 'Fog/Smog/Smoke'\n 'Sleet/Hail/Freezing Rain' 'Blowing Sand/Dirt' 'Severe Crosswind'\n 'Partly Cloudy']\nROADCOND uniques:  ['Wet' 'Dry' 'Snow/Slush' 'Ice' 'Other' 'Sand/Mud/Dirt' 'Standing Water'\n 'Oil']\nLIGHTCOND uniques:  ['Daylight' 'Dark - Street Lights On' 'Dark - No Street Lights' 'Dusk'\n 'Dawn' 'Dark - Street Lights Off' 'Other' 'Dark - Unknown Lighting']\n"
                }
            ],
            "source": "# verifyin that the rows have been removed\nprint(\"WEATHER uniques: \", dfc3['WEATHER'].unique())\nprint(\"ROADCOND uniques: \", dfc3['ROADCOND'].unique())\nprint(\"LIGHTCOND uniques: \", dfc3['LIGHTCOND'].unique())"
        },
        {
            "cell_type": "code",
            "execution_count": 20,
            "metadata": {},
            "outputs": [
                {
                    "name": "stdout",
                    "output_type": "stream",
                    "text": "(167845, 29)\n(194673, 38)\nPercent of features:  76.31578947368422\nPercent of rows:  86.21894150704001\nReduction of features:  9 ,  23.68421052631578\nReduction of rows:  26828 ,  13.781058492959986\n"
                }
            ],
            "source": "# Examining the results of preliminary cleaning based on \n# nulls, improperly labeled values, and useless values\nprint(dfc3.shape)\nprint(df.shape)\nprint(\"Percent of features: \", len(dfc3.columns) / len(df.columns) * 100)\nprint(\"Percent of rows: \", len(dfc3) / len(df) * 100)\nprint(\"Reduction of features: \", len(df.columns) - len(dfc3.columns), \", \", 100 - (len(dfc3.columns) / len(df.columns) * 100))\nprint(\"Reduction of rows: \", len(df) - len(dfc3), \", \", 100 - (len(dfc3) / len(df) * 100))\n# The amount of features has been reduced by 9, or 23.68%.\n# The amount of observations has been reduced by 26,828, or 13.78%."
        },
        {
            "cell_type": "markdown",
            "metadata": {},
            "source": "### D. Examining the Remaining Features for Relevenacy"
        },
        {
            "cell_type": "code",
            "execution_count": 21,
            "metadata": {},
            "outputs": [
                {
                    "data": {
                        "text/html": "<div>\n<style scoped>\n    .dataframe tbody tr th:only-of-type {\n        vertical-align: middle;\n    }\n\n    .dataframe tbody tr th {\n        vertical-align: top;\n    }\n\n    .dataframe thead th {\n        text-align: right;\n    }\n</style>\n<table border=\"1\" class=\"dataframe\">\n  <thead>\n    <tr style=\"text-align: right;\">\n      <th></th>\n      <th>FEATURE</th>\n      <th># OF UNIQUE</th>\n      <th>UNIQUE VALUES AS AN ARRAY</th>\n      <th>DATA TYPE</th>\n      <th># OF NULLS</th>\n      <th>% OF VALUES THAT ARE NULLS</th>\n    </tr>\n  </thead>\n  <tbody>\n    <tr>\n      <th>0</th>\n      <td>SEVERITYCODE</td>\n      <td>2</td>\n      <td>[2, 1]</td>\n      <td>int64</td>\n      <td>0</td>\n      <td>0.0</td>\n    </tr>\n    <tr>\n      <th>1</th>\n      <td>OBJECTID</td>\n      <td>167845</td>\n      <td>[1, 2, 3, 4, 5, 6, 7, 9, 10, 12, 14, 15, 16, 1...</td>\n      <td>int64</td>\n      <td>0</td>\n      <td>0.0</td>\n    </tr>\n    <tr>\n      <th>2</th>\n      <td>INCKEY</td>\n      <td>167845</td>\n      <td>[1307, 52200, 26700, 1144, 17700, 320840, 8330...</td>\n      <td>int64</td>\n      <td>0</td>\n      <td>0.0</td>\n    </tr>\n    <tr>\n      <th>3</th>\n      <td>COLDETKEY</td>\n      <td>167845</td>\n      <td>[1307, 52200, 26700, 1144, 17700, 322340, 8330...</td>\n      <td>int64</td>\n      <td>0</td>\n      <td>0.0</td>\n    </tr>\n    <tr>\n      <th>4</th>\n      <td>REPORTNO</td>\n      <td>167843</td>\n      <td>[3502005, 2607959, 1482393, 3503937, 1807429, ...</td>\n      <td>object</td>\n      <td>0</td>\n      <td>0.0</td>\n    </tr>\n    <tr>\n      <th>5</th>\n      <td>STATUS</td>\n      <td>2</td>\n      <td>[Matched, Unmatched]</td>\n      <td>object</td>\n      <td>0</td>\n      <td>0.0</td>\n    </tr>\n    <tr>\n      <th>6</th>\n      <td>ADDRTYPE</td>\n      <td>3</td>\n      <td>[Intersection, Block, Alley]</td>\n      <td>object</td>\n      <td>0</td>\n      <td>0.0</td>\n    </tr>\n    <tr>\n      <th>7</th>\n      <td>SEVERITYCODE.1</td>\n      <td>2</td>\n      <td>[2, 1]</td>\n      <td>int64</td>\n      <td>0</td>\n      <td>0.0</td>\n    </tr>\n    <tr>\n      <th>8</th>\n      <td>SEVERITYDESC</td>\n      <td>2</td>\n      <td>[Injury Collision, Property Damage Only Collis...</td>\n      <td>object</td>\n      <td>0</td>\n      <td>0.0</td>\n    </tr>\n    <tr>\n      <th>9</th>\n      <td>COLLISIONTYPE</td>\n      <td>10</td>\n      <td>[Angles, Sideswipe, Parked Car, Other, Cycles,...</td>\n      <td>object</td>\n      <td>0</td>\n      <td>0.0</td>\n    </tr>\n    <tr>\n      <th>10</th>\n      <td>PERSONCOUNT</td>\n      <td>47</td>\n      <td>[2, 4, 3, 0, 5, 6, 1, 16, 8, 7, 11, 9, 12, 17,...</td>\n      <td>int64</td>\n      <td>0</td>\n      <td>0.0</td>\n    </tr>\n    <tr>\n      <th>11</th>\n      <td>PEDCOUNT</td>\n      <td>7</td>\n      <td>[0, 1, 2, 3, 4, 5, 6]</td>\n      <td>int64</td>\n      <td>0</td>\n      <td>0.0</td>\n    </tr>\n    <tr>\n      <th>12</th>\n      <td>PEDCYLCOUNT</td>\n      <td>3</td>\n      <td>[0, 1, 2]</td>\n      <td>int64</td>\n      <td>0</td>\n      <td>0.0</td>\n    </tr>\n    <tr>\n      <th>13</th>\n      <td>VEHCOUNT</td>\n      <td>13</td>\n      <td>[2, 3, 1, 4, 0, 7, 5, 6, 8, 11, 9, 10, 12]</td>\n      <td>int64</td>\n      <td>0</td>\n      <td>0.0</td>\n    </tr>\n    <tr>\n      <th>14</th>\n      <td>INCDATE</td>\n      <td>5946</td>\n      <td>[2013/03/27 00:00:00+00, 2006/12/20 00:00:00+0...</td>\n      <td>object</td>\n      <td>0</td>\n      <td>0.0</td>\n    </tr>\n    <tr>\n      <th>15</th>\n      <td>INCDTTM</td>\n      <td>142998</td>\n      <td>[3/27/2013 2:54:00 PM, 12/20/2006 6:55:00 PM, ...</td>\n      <td>object</td>\n      <td>0</td>\n      <td>0.0</td>\n    </tr>\n    <tr>\n      <th>16</th>\n      <td>JUNCTIONTYPE</td>\n      <td>7</td>\n      <td>[At Intersection (intersection related), Mid-B...</td>\n      <td>object</td>\n      <td>0</td>\n      <td>0.0</td>\n    </tr>\n    <tr>\n      <th>17</th>\n      <td>SDOT_COLCODE</td>\n      <td>39</td>\n      <td>[11, 16, 14, 51, 13, 18, 34, 28, 24, 69, 26, 0...</td>\n      <td>int64</td>\n      <td>0</td>\n      <td>0.0</td>\n    </tr>\n    <tr>\n      <th>18</th>\n      <td>SDOT_COLDESC</td>\n      <td>39</td>\n      <td>[MOTOR VEHICLE STRUCK MOTOR VEHICLE, FRONT END...</td>\n      <td>object</td>\n      <td>0</td>\n      <td>0.0</td>\n    </tr>\n    <tr>\n      <th>19</th>\n      <td>INATTENTIONIND</td>\n      <td>2</td>\n      <td>[N, Y]</td>\n      <td>object</td>\n      <td>0</td>\n      <td>0.0</td>\n    </tr>\n    <tr>\n      <th>20</th>\n      <td>UNDERINFL</td>\n      <td>2</td>\n      <td>[N, Y]</td>\n      <td>object</td>\n      <td>0</td>\n      <td>0.0</td>\n    </tr>\n    <tr>\n      <th>21</th>\n      <td>WEATHER</td>\n      <td>10</td>\n      <td>[Overcast, Raining, Clear, Snowing, Other, Fog...</td>\n      <td>object</td>\n      <td>0</td>\n      <td>0.0</td>\n    </tr>\n    <tr>\n      <th>22</th>\n      <td>ROADCOND</td>\n      <td>8</td>\n      <td>[Wet, Dry, Snow/Slush, Ice, Other, Sand/Mud/Di...</td>\n      <td>object</td>\n      <td>0</td>\n      <td>0.0</td>\n    </tr>\n    <tr>\n      <th>23</th>\n      <td>LIGHTCOND</td>\n      <td>8</td>\n      <td>[Daylight, Dark - Street Lights On, Dark - No ...</td>\n      <td>object</td>\n      <td>0</td>\n      <td>0.0</td>\n    </tr>\n    <tr>\n      <th>24</th>\n      <td>PEDROWNOTGRNT</td>\n      <td>2</td>\n      <td>[N, Y]</td>\n      <td>object</td>\n      <td>0</td>\n      <td>0.0</td>\n    </tr>\n    <tr>\n      <th>25</th>\n      <td>SPEEDING</td>\n      <td>2</td>\n      <td>[N, Y]</td>\n      <td>object</td>\n      <td>0</td>\n      <td>0.0</td>\n    </tr>\n    <tr>\n      <th>26</th>\n      <td>SEGLANEKEY</td>\n      <td>1877</td>\n      <td>[0, 6855, 20579, 29054, 40890, 12978, 15057, 3...</td>\n      <td>int64</td>\n      <td>0</td>\n      <td>0.0</td>\n    </tr>\n    <tr>\n      <th>27</th>\n      <td>CROSSWALKKEY</td>\n      <td>2114</td>\n      <td>[0, 520838, 521466, 521004, 522958, 524507, 52...</td>\n      <td>int64</td>\n      <td>0</td>\n      <td>0.0</td>\n    </tr>\n    <tr>\n      <th>28</th>\n      <td>HITPARKEDCAR</td>\n      <td>2</td>\n      <td>[N, Y]</td>\n      <td>object</td>\n      <td>0</td>\n      <td>0.0</td>\n    </tr>\n  </tbody>\n</table>\n</div>",
                        "text/plain": "           FEATURE  # OF UNIQUE  \\\n0     SEVERITYCODE            2   \n1         OBJECTID       167845   \n2           INCKEY       167845   \n3        COLDETKEY       167845   \n4         REPORTNO       167843   \n5           STATUS            2   \n6         ADDRTYPE            3   \n7   SEVERITYCODE.1            2   \n8     SEVERITYDESC            2   \n9    COLLISIONTYPE           10   \n10     PERSONCOUNT           47   \n11        PEDCOUNT            7   \n12     PEDCYLCOUNT            3   \n13        VEHCOUNT           13   \n14         INCDATE         5946   \n15         INCDTTM       142998   \n16    JUNCTIONTYPE            7   \n17    SDOT_COLCODE           39   \n18    SDOT_COLDESC           39   \n19  INATTENTIONIND            2   \n20       UNDERINFL            2   \n21         WEATHER           10   \n22        ROADCOND            8   \n23       LIGHTCOND            8   \n24   PEDROWNOTGRNT            2   \n25        SPEEDING            2   \n26      SEGLANEKEY         1877   \n27    CROSSWALKKEY         2114   \n28    HITPARKEDCAR            2   \n\n                            UNIQUE VALUES AS AN ARRAY DATA TYPE  # OF NULLS  \\\n0                                              [2, 1]     int64           0   \n1   [1, 2, 3, 4, 5, 6, 7, 9, 10, 12, 14, 15, 16, 1...     int64           0   \n2   [1307, 52200, 26700, 1144, 17700, 320840, 8330...     int64           0   \n3   [1307, 52200, 26700, 1144, 17700, 322340, 8330...     int64           0   \n4   [3502005, 2607959, 1482393, 3503937, 1807429, ...    object           0   \n5                                [Matched, Unmatched]    object           0   \n6                        [Intersection, Block, Alley]    object           0   \n7                                              [2, 1]     int64           0   \n8   [Injury Collision, Property Damage Only Collis...    object           0   \n9   [Angles, Sideswipe, Parked Car, Other, Cycles,...    object           0   \n10  [2, 4, 3, 0, 5, 6, 1, 16, 8, 7, 11, 9, 12, 17,...     int64           0   \n11                              [0, 1, 2, 3, 4, 5, 6]     int64           0   \n12                                          [0, 1, 2]     int64           0   \n13         [2, 3, 1, 4, 0, 7, 5, 6, 8, 11, 9, 10, 12]     int64           0   \n14  [2013/03/27 00:00:00+00, 2006/12/20 00:00:00+0...    object           0   \n15  [3/27/2013 2:54:00 PM, 12/20/2006 6:55:00 PM, ...    object           0   \n16  [At Intersection (intersection related), Mid-B...    object           0   \n17  [11, 16, 14, 51, 13, 18, 34, 28, 24, 69, 26, 0...     int64           0   \n18  [MOTOR VEHICLE STRUCK MOTOR VEHICLE, FRONT END...    object           0   \n19                                             [N, Y]    object           0   \n20                                             [N, Y]    object           0   \n21  [Overcast, Raining, Clear, Snowing, Other, Fog...    object           0   \n22  [Wet, Dry, Snow/Slush, Ice, Other, Sand/Mud/Di...    object           0   \n23  [Daylight, Dark - Street Lights On, Dark - No ...    object           0   \n24                                             [N, Y]    object           0   \n25                                             [N, Y]    object           0   \n26  [0, 6855, 20579, 29054, 40890, 12978, 15057, 3...     int64           0   \n27  [0, 520838, 521466, 521004, 522958, 524507, 52...     int64           0   \n28                                             [N, Y]    object           0   \n\n    % OF VALUES THAT ARE NULLS  \n0                          0.0  \n1                          0.0  \n2                          0.0  \n3                          0.0  \n4                          0.0  \n5                          0.0  \n6                          0.0  \n7                          0.0  \n8                          0.0  \n9                          0.0  \n10                         0.0  \n11                         0.0  \n12                         0.0  \n13                         0.0  \n14                         0.0  \n15                         0.0  \n16                         0.0  \n17                         0.0  \n18                         0.0  \n19                         0.0  \n20                         0.0  \n21                         0.0  \n22                         0.0  \n23                         0.0  \n24                         0.0  \n25                         0.0  \n26                         0.0  \n27                         0.0  \n28                         0.0  "
                    },
                    "execution_count": 21,
                    "metadata": {},
                    "output_type": "execute_result"
                }
            ],
            "source": "data3 = []\nds = dfc3\nfor i in ds.columns:\n    data3.append([i, ds[i].nunique(), ds[i].unique(), ds[i].dtypes, ds[i].isnull().sum(), (ds[i].isnull().sum() / len(ds)) * 100])\n    \ndf3 = pd.DataFrame(data3)\ndf3.columns = ['FEATURE', '# OF UNIQUE', 'UNIQUE VALUES AS AN ARRAY', 'DATA TYPE', '# OF NULLS', '% OF VALUES THAT ARE NULLS']\ndf3"
        },
        {
            "cell_type": "markdown",
            "metadata": {},
            "source": "### Clean Data Based on *D. Examining the Remaining Features for Relevenacy* Results"
        },
        {
            "cell_type": "markdown",
            "metadata": {},
            "source": "#### Drop Features Deemed Unnecessary"
        },
        {
            "cell_type": "code",
            "execution_count": 22,
            "metadata": {},
            "outputs": [],
            "source": "# Drop the following features:\ndfd1 = dfc3.drop(['OBJECTID', 'INCKEY', 'COLDETKEY', 'REPORTNO', 'STATUS', 'SEVERITYCODE.1', 'SEVERITYDESC', 'INCDATE', 'INCDTTM', 'SDOT_COLCODE', 'SDOT_COLDESC', 'SEGLANEKEY', 'CROSSWALKKEY'], axis = 1)"
        },
        {
            "cell_type": "markdown",
            "metadata": {},
            "source": "### E. Examine Remaining Features"
        },
        {
            "cell_type": "code",
            "execution_count": 23,
            "metadata": {},
            "outputs": [],
            "source": "# Keep the following features:\n# ADDRTYPE, COLLISIONTYPE, PERSONCOUNT, PEDCOUNT, PEDCYLCOUNT, VEHCOUNT, JUNCTIONTYPE, INATTENTIONIND, UNDERINFL, WEATHER, ROADCOND, LIGHTCOND, PEDROWNOTGRNT, SPEEDING, HITPARKEDCAR"
        },
        {
            "cell_type": "code",
            "execution_count": 24,
            "metadata": {
                "scrolled": false
            },
            "outputs": [
                {
                    "data": {
                        "text/html": "<div>\n<style scoped>\n    .dataframe tbody tr th:only-of-type {\n        vertical-align: middle;\n    }\n\n    .dataframe tbody tr th {\n        vertical-align: top;\n    }\n\n    .dataframe thead th {\n        text-align: right;\n    }\n</style>\n<table border=\"1\" class=\"dataframe\">\n  <thead>\n    <tr style=\"text-align: right;\">\n      <th></th>\n      <th>FEATURE</th>\n      <th># OF UNIQUE</th>\n      <th>UNIQUE VALUES AS AN ARRAY</th>\n      <th>DATA TYPE</th>\n      <th># OF NULLS</th>\n      <th>% OF VALUES THAT ARE NULLS</th>\n    </tr>\n  </thead>\n  <tbody>\n    <tr>\n      <th>0</th>\n      <td>SEVERITYCODE</td>\n      <td>2</td>\n      <td>[2, 1]</td>\n      <td>int64</td>\n      <td>0</td>\n      <td>0.0</td>\n    </tr>\n    <tr>\n      <th>1</th>\n      <td>ADDRTYPE</td>\n      <td>3</td>\n      <td>[Intersection, Block, Alley]</td>\n      <td>object</td>\n      <td>0</td>\n      <td>0.0</td>\n    </tr>\n    <tr>\n      <th>2</th>\n      <td>COLLISIONTYPE</td>\n      <td>10</td>\n      <td>[Angles, Sideswipe, Parked Car, Other, Cycles,...</td>\n      <td>object</td>\n      <td>0</td>\n      <td>0.0</td>\n    </tr>\n    <tr>\n      <th>3</th>\n      <td>PERSONCOUNT</td>\n      <td>47</td>\n      <td>[2, 4, 3, 0, 5, 6, 1, 16, 8, 7, 11, 9, 12, 17,...</td>\n      <td>int64</td>\n      <td>0</td>\n      <td>0.0</td>\n    </tr>\n    <tr>\n      <th>4</th>\n      <td>PEDCOUNT</td>\n      <td>7</td>\n      <td>[0, 1, 2, 3, 4, 5, 6]</td>\n      <td>int64</td>\n      <td>0</td>\n      <td>0.0</td>\n    </tr>\n    <tr>\n      <th>5</th>\n      <td>PEDCYLCOUNT</td>\n      <td>3</td>\n      <td>[0, 1, 2]</td>\n      <td>int64</td>\n      <td>0</td>\n      <td>0.0</td>\n    </tr>\n    <tr>\n      <th>6</th>\n      <td>VEHCOUNT</td>\n      <td>13</td>\n      <td>[2, 3, 1, 4, 0, 7, 5, 6, 8, 11, 9, 10, 12]</td>\n      <td>int64</td>\n      <td>0</td>\n      <td>0.0</td>\n    </tr>\n    <tr>\n      <th>7</th>\n      <td>JUNCTIONTYPE</td>\n      <td>7</td>\n      <td>[At Intersection (intersection related), Mid-B...</td>\n      <td>object</td>\n      <td>0</td>\n      <td>0.0</td>\n    </tr>\n    <tr>\n      <th>8</th>\n      <td>INATTENTIONIND</td>\n      <td>2</td>\n      <td>[N, Y]</td>\n      <td>object</td>\n      <td>0</td>\n      <td>0.0</td>\n    </tr>\n    <tr>\n      <th>9</th>\n      <td>UNDERINFL</td>\n      <td>2</td>\n      <td>[N, Y]</td>\n      <td>object</td>\n      <td>0</td>\n      <td>0.0</td>\n    </tr>\n    <tr>\n      <th>10</th>\n      <td>WEATHER</td>\n      <td>10</td>\n      <td>[Overcast, Raining, Clear, Snowing, Other, Fog...</td>\n      <td>object</td>\n      <td>0</td>\n      <td>0.0</td>\n    </tr>\n    <tr>\n      <th>11</th>\n      <td>ROADCOND</td>\n      <td>8</td>\n      <td>[Wet, Dry, Snow/Slush, Ice, Other, Sand/Mud/Di...</td>\n      <td>object</td>\n      <td>0</td>\n      <td>0.0</td>\n    </tr>\n    <tr>\n      <th>12</th>\n      <td>LIGHTCOND</td>\n      <td>8</td>\n      <td>[Daylight, Dark - Street Lights On, Dark - No ...</td>\n      <td>object</td>\n      <td>0</td>\n      <td>0.0</td>\n    </tr>\n    <tr>\n      <th>13</th>\n      <td>PEDROWNOTGRNT</td>\n      <td>2</td>\n      <td>[N, Y]</td>\n      <td>object</td>\n      <td>0</td>\n      <td>0.0</td>\n    </tr>\n    <tr>\n      <th>14</th>\n      <td>SPEEDING</td>\n      <td>2</td>\n      <td>[N, Y]</td>\n      <td>object</td>\n      <td>0</td>\n      <td>0.0</td>\n    </tr>\n    <tr>\n      <th>15</th>\n      <td>HITPARKEDCAR</td>\n      <td>2</td>\n      <td>[N, Y]</td>\n      <td>object</td>\n      <td>0</td>\n      <td>0.0</td>\n    </tr>\n  </tbody>\n</table>\n</div>",
                        "text/plain": "           FEATURE  # OF UNIQUE  \\\n0     SEVERITYCODE            2   \n1         ADDRTYPE            3   \n2    COLLISIONTYPE           10   \n3      PERSONCOUNT           47   \n4         PEDCOUNT            7   \n5      PEDCYLCOUNT            3   \n6         VEHCOUNT           13   \n7     JUNCTIONTYPE            7   \n8   INATTENTIONIND            2   \n9        UNDERINFL            2   \n10         WEATHER           10   \n11        ROADCOND            8   \n12       LIGHTCOND            8   \n13   PEDROWNOTGRNT            2   \n14        SPEEDING            2   \n15    HITPARKEDCAR            2   \n\n                            UNIQUE VALUES AS AN ARRAY DATA TYPE  # OF NULLS  \\\n0                                              [2, 1]     int64           0   \n1                        [Intersection, Block, Alley]    object           0   \n2   [Angles, Sideswipe, Parked Car, Other, Cycles,...    object           0   \n3   [2, 4, 3, 0, 5, 6, 1, 16, 8, 7, 11, 9, 12, 17,...     int64           0   \n4                               [0, 1, 2, 3, 4, 5, 6]     int64           0   \n5                                           [0, 1, 2]     int64           0   \n6          [2, 3, 1, 4, 0, 7, 5, 6, 8, 11, 9, 10, 12]     int64           0   \n7   [At Intersection (intersection related), Mid-B...    object           0   \n8                                              [N, Y]    object           0   \n9                                              [N, Y]    object           0   \n10  [Overcast, Raining, Clear, Snowing, Other, Fog...    object           0   \n11  [Wet, Dry, Snow/Slush, Ice, Other, Sand/Mud/Di...    object           0   \n12  [Daylight, Dark - Street Lights On, Dark - No ...    object           0   \n13                                             [N, Y]    object           0   \n14                                             [N, Y]    object           0   \n15                                             [N, Y]    object           0   \n\n    % OF VALUES THAT ARE NULLS  \n0                          0.0  \n1                          0.0  \n2                          0.0  \n3                          0.0  \n4                          0.0  \n5                          0.0  \n6                          0.0  \n7                          0.0  \n8                          0.0  \n9                          0.0  \n10                         0.0  \n11                         0.0  \n12                         0.0  \n13                         0.0  \n14                         0.0  \n15                         0.0  "
                    },
                    "execution_count": 24,
                    "metadata": {},
                    "output_type": "execute_result"
                }
            ],
            "source": "ds = dfd1\ndata5 = []\nfor i in ds.columns:\n    data5.append([i, ds[i].nunique(), ds[i].unique(), ds[i].dtypes, ds[i].isnull().sum(), (ds[i].isnull().sum() / len(ds)) * 100])\n    \ndf5 = pd.DataFrame(data5)\ndf5.columns = ['FEATURE', '# OF UNIQUE', 'UNIQUE VALUES AS AN ARRAY', 'DATA TYPE', '# OF NULLS', '% OF VALUES THAT ARE NULLS']\ndf5"
        },
        {
            "cell_type": "code",
            "execution_count": 25,
            "metadata": {},
            "outputs": [],
            "source": "# this is a great place to start, so let's start plotting to futher examine the features we have"
        },
        {
            "cell_type": "markdown",
            "metadata": {},
            "source": "### F. Explore Remaining Features Through Plots"
        },
        {
            "cell_type": "code",
            "execution_count": 26,
            "metadata": {},
            "outputs": [],
            "source": "import seaborn as sns"
        },
        {
            "cell_type": "code",
            "execution_count": 27,
            "metadata": {},
            "outputs": [],
            "source": "# convert the int64 features to objects for plotting\ndfep = dfd1.astype({\"PERSONCOUNT\": object, \"PEDCOUNT\": object, \"PEDCYLCOUNT\": object, \"VEHCOUNT\": object})"
        },
        {
            "cell_type": "code",
            "execution_count": 28,
            "metadata": {},
            "outputs": [
                {
                    "data": {
                        "text/plain": "Index(['SEVERITYCODE', 'ADDRTYPE', 'COLLISIONTYPE', 'JUNCTIONTYPE',\n       'INATTENTIONIND', 'UNDERINFL', 'WEATHER', 'ROADCOND', 'LIGHTCOND',\n       'PEDROWNOTGRNT', 'SPEEDING', 'HITPARKEDCAR'],\n      dtype='object')"
                    },
                    "execution_count": 28,
                    "metadata": {},
                    "output_type": "execute_result"
                }
            ],
            "source": "# drop problematic features for plotting\ndfep1 = dfep.drop(['PERSONCOUNT', 'PEDCOUNT', 'PEDCYLCOUNT', 'VEHCOUNT'], axis = 1)\ndfep1.columns"
        },
        {
            "cell_type": "markdown",
            "metadata": {},
            "source": "#### WORKING"
        },
        {
            "cell_type": "code",
            "execution_count": null,
            "metadata": {
                "scrolled": false
            },
            "outputs": [],
            "source": "dfep1.columns = ['Severity Code', 'Address Type', 'Collision Type', 'Junction Type', 'Inattention', 'Under Influence', 'Weather', 'Road Conditions', 'Lighting Conditions', 'Pedestrian Right of Way Granted', 'Speeding', 'Hit a Parked Car']\nitercolumns = iter(dfep1.columns)\nnext(itercolumns)\n\nfor p in itercolumns:\n    # 3.2 plot severity vs lighting conditions\n    # prepare the data to be plotted\n    dflc = (dfep1\n        .groupby([p, 'Severity Code'])\n        .size()\n        .reset_index()\n        .replace({'Severity Code': {1:\"prop. damage\", 2:\"minor injury\"}})\n        .replace({'Y':\"Yes\", 'N':\"No\"})\n        .rename(columns={0:\"count\"}))\n\n    # calculate survival % per town of embarkation    \n    dflc[\"percent\"] = (dflc\n                     .groupby(p)\n                     .apply(lambda x: x[\"count\"] / x[\"count\"].sum()).values)\n\n    # sort the dataframe to match the drawing order    \n    dflc.sort_values(by=['Severity Code', p], inplace = True)\n\n    # plot severity vs lighting conditions\n    plt.style.use('ggplot')\n    fig = sns.catplot(\n        x=\"count\", y=p, hue='Severity Code',\n        kind=\"bar\", data=dflc, height=10, aspect=2, legend_out = False, orient = \"h\")\n\n    for i, bar in enumerate(fig.ax.patches):\n        fig.ax.annotate(\n            # reference the pre-calculated row in the dataframe\n            f\"{dflc.iloc[i, 3] :.0%}\",\n            #xycoords=\"data\",\n            #xytext=(30, -15),\n            fontsize = 18,\n            #textcoords=\"offset points\",\n            xy=(bar.get_width(), bar.get_y() + (bar.get_height() / 2)),\n            #horizontalalignment='center', \n            verticalalignment='center'\n            )\n    \n    # make space for annonations\n    plt.margins(x=0.2)\n\n    # make final adjustments\n    plt.title(p + \" vs. Number of Collisions by Severity\", fontsize = 30)\n    plt.ylabel(p , fontsize = 24)\n    plt.xlabel('Number of Collisions', fontsize = 24)\n    plt.tick_params(labelsize=18)\n    plt.legend(fontsize = 18, title = \"Severity\", loc = 'lower right', title_fontsize = 18, shadow = True)\n    plt.show()"
        },
        {
            "cell_type": "markdown",
            "metadata": {},
            "source": "#### WORKING"
        },
        {
            "cell_type": "code",
            "execution_count": null,
            "metadata": {
                "scrolled": false
            },
            "outputs": [],
            "source": "# 3.10 plot severity vs number of cyclists\nindvar = 'PEDCYLCOUNT'\ndepvar = 'Number of Cyclists'\n\n# prepare the data to be plotted\ndflc = (dfep\n    .groupby([indvar, 'SEVERITYCODE'])\n    .size()\n    .reset_index()\n    .replace({'SEVERITYCODE': {1:\"prop. damage\", 2:\"minor injury\"}})\n    .rename(columns={0:\"count\"}))\n\n# calculate survival % per town of embarkation    \ndflc[\"percent\"] = (dflc\n                 .groupby(indvar)\n                 .apply(lambda x: x[\"count\"] / x[\"count\"].sum()).values)\n\n# sort the dataframe to match the drawing order    \ndflc.sort_values(by=['SEVERITYCODE', indvar], inplace = True)\n\nnew_row = {'PEDCYLCOUNT':2, 'SEVERITYCODE':'prop. damage', 'count':0, 'percent':0.000000}\ndflc = dflc.append(new_row, ignore_index = True)\n\n# plot severity vs lighting conditions\nplt.style.use('ggplot')\nfig = sns.catplot(\n    x=\"count\", y=indvar, hue='SEVERITYCODE',\n    kind=\"bar\", data=dflc, height=10, aspect=2, legend_out = False, orient = \"h\")\n\nfor i, bar in enumerate(fig.ax.patches):\n   \n    height = bar.get_height()\n    fig.ax.annotate(\n        # reference the pre-calculated row in the dataframe\n        f\"{dflc.iloc[i, 3] :.0%}\",\n        #xycoords=\"data\",\n        #xytext=(30, -15),\n        fontsize = 18,\n        #textcoords=\"offset points\",\n        xy=(bar.get_width(), bar.get_y() + (bar.get_height() / 2)),\n        #horizontalalignment='center', \n        verticalalignment='center'\n        )\n    \n# make space for annonations\nplt.margins(x=0.2)\n\n# make final adjustments\nplt.title(depvar + ' vs. Number of Collisions by Severity', fontsize = 30)\nplt.xlabel('Number of Collisions', fontsize = 24)\nplt.ylabel(depvar, fontsize = 24)\nplt.tick_params(labelsize=18)\nplt.legend(fontsize = 18, title = \"Severity\", loc = 'lower right', title_fontsize = 18, shadow = True)\nplt.show()"
        },
        {
            "cell_type": "code",
            "execution_count": null,
            "metadata": {
                "scrolled": false
            },
            "outputs": [],
            "source": "# 3.10 plot severity vs number of cyclists\nindvar = 'PEDCOUNT'\ndepvar = 'Number of Pedestrians'\n\n# prepare the data to be plotted\ndflc = (dfep\n    .groupby([indvar, 'SEVERITYCODE'])\n    .size()\n    .reset_index()\n    .replace({'SEVERITYCODE': {1:\"prop. damage\", 2:\"minor injury\"}})\n    .rename(columns={0:\"count\"}))\n\n# calculate survival % per town of embarkation    \ndflc[\"percent\"] = (dflc\n                 .groupby(indvar)\n                 .apply(lambda x: x[\"count\"] / x[\"count\"].sum()).values)\n\n# sort the dataframe to match the drawing order    \ndflc.sort_values(by=['SEVERITYCODE', indvar], inplace = True)\n\nnew_row = {'PEDCOUNT':4, 'SEVERITYCODE':'prop. damage', 'count':0, 'percent':0.000000}\nnew_row1 = {'PEDCOUNT':5, 'SEVERITYCODE':'prop. damage', 'count':0, 'percent':0.000000}\nnew_row2 = {'PEDCOUNT':6, 'SEVERITYCODE':'prop. damage', 'count':0, 'percent':0.000000}\ndflc = dflc.append(new_row, ignore_index = True)\ndflc = dflc.append(new_row1, ignore_index = True)\ndflc = dflc.append(new_row2, ignore_index = True)\n\n# plot severity vs lighting conditions\nplt.style.use('ggplot')\nfig = sns.catplot(\n    x=\"count\", y=indvar, hue='SEVERITYCODE',\n    kind=\"bar\", data=dflc, height=10, aspect=2, legend_out = False, orient = \"h\")\n\nfor i, bar in enumerate(fig.ax.patches):\n   \n    height = bar.get_height()\n    fig.ax.annotate(\n        # reference the pre-calculated row in the dataframe\n        f\"{dflc.iloc[i, 3] :.0%}\",\n        #xycoords=\"data\",\n        #xytext=(30, -15),\n        fontsize = 18,\n        #textcoords=\"offset points\",\n        xy=(bar.get_width(), bar.get_y() + (bar.get_height() / 2)),\n        #horizontalalignment='center', \n        verticalalignment='center'\n        )\n    \n# make space for annonations\nplt.margins(x=0.2)\n\n# make final adjustments\nplt.title(depvar + ' vs. Number of Collisions by Severity', fontsize = 30)\nplt.xlabel('Number of Collisions', fontsize = 24)\nplt.ylabel(depvar, fontsize = 24)\nplt.tick_params(labelsize=18)\nplt.legend(fontsize = 18, title = \"Severity\", loc = 'lower right', title_fontsize = 18, shadow = True)\nplt.show()"
        },
        {
            "cell_type": "code",
            "execution_count": null,
            "metadata": {},
            "outputs": [],
            "source": "# 3.10 plot severity vs number of cyclists\nindvar = 'VEHCOUNT'\ndepvar = 'Number of Vehicles'\n\n# prepare the data to be plotted\ndflc = (dfep\n    .groupby([indvar, 'SEVERITYCODE'])\n    .size()\n    .reset_index()\n    .replace({'SEVERITYCODE': {1:\"prop. damage\", 2:\"minor injury\"}})\n    .rename(columns={0:\"count\"}))\n\n# calculate survival % per town of embarkation    \ndflc[\"percent\"] = (dflc\n                 .groupby(indvar)\n                 .apply(lambda x: x[\"count\"] / x[\"count\"].sum()).values)\n\nnew_row = {'VEHCOUNT':12, 'SEVERITYCODE':'minor injury', 'count':0, 'percent':0.000000}\nnew_row1 = {'VEHCOUNT':10, 'SEVERITYCODE':'prop. damage', 'count':0, 'percent':0.000000}\ndflc = dflc.append(new_row, ignore_index = True)\ndflc = dflc.append(new_row1, ignore_index = True)\n\n# sort the dataframe to match the drawing order    \ndflc.sort_values(by=['SEVERITYCODE', indvar], inplace = True)\n\n# plot severity vs lighting conditions\nplt.style.use('ggplot')\nfig = sns.catplot(\n    x=\"count\", y=indvar, hue='SEVERITYCODE',\n    kind=\"bar\", data=dflc, height=10, aspect=2, legend_out = False, orient = \"h\")\n\nfor i, bar in enumerate(fig.ax.patches):\n   \n    height = bar.get_height()\n    fig.ax.annotate(\n        # reference the pre-calculated row in the dataframe\n        f\"{dflc.iloc[i, 3] :.0%}\",\n        #xycoords=\"data\",\n        #xytext=(30, -15),\n        fontsize = 18,\n        #textcoords=\"offset points\",\n        xy=(bar.get_width(), bar.get_y() + (bar.get_height() / 2)),\n        #horizontalalignment='center', \n        verticalalignment='center'\n        )\n    \n# make space for annonations\nplt.margins(x=0.2)\n\n# make final adjustments\nplt.title(depvar + ' vs. Number of Collisions by Severity', fontsize = 30)\nplt.xlabel('Number of Collisions', fontsize = 24)\nplt.ylabel(depvar, fontsize = 24)\nplt.tick_params(labelsize=18)\nplt.legend(fontsize = 18, title = \"Severity\", loc = 'lower right', title_fontsize = 18, shadow = True)\nplt.show()"
        },
        {
            "cell_type": "code",
            "execution_count": null,
            "metadata": {
                "scrolled": false
            },
            "outputs": [],
            "source": "# 3.10 plot severity vs number of cyclists\nindvar = 'PERSONCOUNT'\ndepvar = 'Number of People'\n\n# prepare the data to be plotted\ndflc = (dfep\n    .groupby([indvar, 'SEVERITYCODE'])\n    .size()\n    .reset_index()\n    .replace({'SEVERITYCODE': {1:\"prop. damage\", 2:\"minor injury\"}})\n    .rename(columns={0:\"count\"}))\n\n# calculate survival % per town of embarkation    \ndflc[\"percent\"] = (dflc\n                 .groupby(indvar)\n                 .apply(lambda x: x[\"count\"] / x[\"count\"].sum()).values)\n\nnew_row = {'PERSONCOUNT':21, 'SEVERITYCODE':'minor injury', 'count':0, 'percent':0.000000}\nnew_row1 = {'PERSONCOUNT':26, 'SEVERITYCODE':'minor injury', 'count':0, 'percent':0.000000}\nnew_row2 = {'PERSONCOUNT':31, 'SEVERITYCODE':'minor injury', 'count':0, 'percent':0.000000}\nnew_row3 = {'PERSONCOUNT':35, 'SEVERITYCODE':'minor injury', 'count':0, 'percent':0.000000}\nnew_row4 = {'PERSONCOUNT':36, 'SEVERITYCODE':'minor injury', 'count':0, 'percent':0.000000}\nnew_row5 = {'PERSONCOUNT':41, 'SEVERITYCODE':'minor injury', 'count':0, 'percent':0.000000}\nnew_row6 = {'PERSONCOUNT':43, 'SEVERITYCODE':'minor injury', 'count':0, 'percent':0.000000}\nnew_row7 = {'PERSONCOUNT':44, 'SEVERITYCODE':'minor injury', 'count':0, 'percent':0.000000}\nnew_row8 = {'PERSONCOUNT':47, 'SEVERITYCODE':'minor injury', 'count':0, 'percent':0.000000}\nnew_row9 = {'PERSONCOUNT':53, 'SEVERITYCODE':'minor injury', 'count':0, 'percent':0.000000}\nnew_row10 = {'PERSONCOUNT':57, 'SEVERITYCODE':'minor injury', 'count':0, 'percent':0.000000}\ndflc = dflc.append(new_row, ignore_index = True)\ndflc = dflc.append(new_row1, ignore_index = True)\ndflc = dflc.append(new_row2, ignore_index = True)\ndflc = dflc.append(new_row3, ignore_index = True)\ndflc = dflc.append(new_row4, ignore_index = True)\ndflc = dflc.append(new_row5, ignore_index = True)\ndflc = dflc.append(new_row6, ignore_index = True)\ndflc = dflc.append(new_row7, ignore_index = True)\ndflc = dflc.append(new_row8, ignore_index = True)\ndflc = dflc.append(new_row9, ignore_index = True)\ndflc = dflc.append(new_row10, ignore_index = True)\nnew_row11 = {'PERSONCOUNT':39, 'SEVERITYCODE':'prop. damage', 'count':0, 'percent':0.000000}\nnew_row12 = {'PERSONCOUNT':48, 'SEVERITYCODE':'prop. damage', 'count':0, 'percent':0.000000}\nnew_row13 = {'PERSONCOUNT':54, 'SEVERITYCODE':'prop. damage', 'count':0, 'percent':0.000000}\nnew_row14 = {'PERSONCOUNT':81, 'SEVERITYCODE':'prop. damage', 'count':0, 'percent':0.000000}\ndflc = dflc.append(new_row11, ignore_index = True)\ndflc = dflc.append(new_row12, ignore_index = True)\ndflc = dflc.append(new_row13, ignore_index = True)\ndflc = dflc.append(new_row14, ignore_index = True)\n\n# sort the dataframe to match the drawing order    \ndflc.sort_values(by=['SEVERITYCODE', indvar], inplace = True)\n\n# plot severity vs lighting conditions\nplt.style.use('ggplot')\nfig = sns.catplot(\n    x=\"count\", y=indvar, hue='SEVERITYCODE',\n    kind=\"bar\", data=dflc, height=30, aspect=2, legend_out = False, orient = \"h\")\n\nfor i, bar in enumerate(fig.ax.patches):\n   \n    height = bar.get_height()\n    fig.ax.annotate(\n        # reference the pre-calculated row in the dataframe\n        f\"{dflc.iloc[i, 3] :.0%}\",\n        #xycoords=\"data\",\n        #xytext=(30, -15),\n        fontsize = 18,\n        #textcoords=\"offset points\",\n        xy=(bar.get_width(), bar.get_y() + (bar.get_height() / 2)),\n        #horizontalalignment='center', \n        verticalalignment='center'\n        )\n    \n# make space for annonations\nplt.margins(x=0.2)\n\n# make final adjustments\nplt.title(depvar + ' vs. Number of Collisions by Severity', fontsize = 30)\nplt.xlabel('Number of Collisions', fontsize = 24)\nplt.ylabel(depvar, fontsize = 24)\nplt.tick_params(labelsize=18)\nplt.legend(fontsize = 18, title = \"Severity\", loc = 'lower right', title_fontsize = 18, shadow = True)\nplt.show()"
        },
        {
            "cell_type": "markdown",
            "metadata": {},
            "source": "### Transform Data"
        },
        {
            "cell_type": "code",
            "execution_count": 30,
            "metadata": {
                "scrolled": false
            },
            "outputs": [
                {
                    "data": {
                        "text/html": "<div>\n<style scoped>\n    .dataframe tbody tr th:only-of-type {\n        vertical-align: middle;\n    }\n\n    .dataframe tbody tr th {\n        vertical-align: top;\n    }\n\n    .dataframe thead th {\n        text-align: right;\n    }\n</style>\n<table border=\"1\" class=\"dataframe\">\n  <thead>\n    <tr style=\"text-align: right;\">\n      <th></th>\n      <th>FEATURE</th>\n      <th># OF UNIQUE</th>\n      <th>UNIQUE VALUES AS AN ARRAY</th>\n      <th>DATA TYPE</th>\n      <th># OF NULLS</th>\n      <th>% OF VALUES THAT ARE NULLS</th>\n    </tr>\n  </thead>\n  <tbody>\n    <tr>\n      <th>0</th>\n      <td>SEVERITYCODE</td>\n      <td>2</td>\n      <td>[2, 1]</td>\n      <td>int64</td>\n      <td>0</td>\n      <td>0.0</td>\n    </tr>\n    <tr>\n      <th>1</th>\n      <td>ADDRTYPE</td>\n      <td>3</td>\n      <td>[Intersection, Block, Alley]</td>\n      <td>object</td>\n      <td>0</td>\n      <td>0.0</td>\n    </tr>\n    <tr>\n      <th>2</th>\n      <td>COLLISIONTYPE</td>\n      <td>10</td>\n      <td>[Angles, Sideswipe, Parked Car, Other, Cycles,...</td>\n      <td>object</td>\n      <td>0</td>\n      <td>0.0</td>\n    </tr>\n    <tr>\n      <th>3</th>\n      <td>PERSONCOUNT</td>\n      <td>47</td>\n      <td>[2, 4, 3, 0, 5, 6, 1, 16, 8, 7, 11, 9, 12, 17,...</td>\n      <td>int64</td>\n      <td>0</td>\n      <td>0.0</td>\n    </tr>\n    <tr>\n      <th>4</th>\n      <td>PEDCOUNT</td>\n      <td>7</td>\n      <td>[0, 1, 2, 3, 4, 5, 6]</td>\n      <td>int64</td>\n      <td>0</td>\n      <td>0.0</td>\n    </tr>\n    <tr>\n      <th>5</th>\n      <td>PEDCYLCOUNT</td>\n      <td>3</td>\n      <td>[0, 1, 2]</td>\n      <td>int64</td>\n      <td>0</td>\n      <td>0.0</td>\n    </tr>\n    <tr>\n      <th>6</th>\n      <td>VEHCOUNT</td>\n      <td>13</td>\n      <td>[2, 3, 1, 4, 0, 7, 5, 6, 8, 11, 9, 10, 12]</td>\n      <td>int64</td>\n      <td>0</td>\n      <td>0.0</td>\n    </tr>\n    <tr>\n      <th>7</th>\n      <td>JUNCTIONTYPE</td>\n      <td>7</td>\n      <td>[At Intersection (intersection related), Mid-B...</td>\n      <td>object</td>\n      <td>0</td>\n      <td>0.0</td>\n    </tr>\n    <tr>\n      <th>8</th>\n      <td>INATTENTIONIND</td>\n      <td>2</td>\n      <td>[N, Y]</td>\n      <td>object</td>\n      <td>0</td>\n      <td>0.0</td>\n    </tr>\n    <tr>\n      <th>9</th>\n      <td>UNDERINFL</td>\n      <td>2</td>\n      <td>[N, Y]</td>\n      <td>object</td>\n      <td>0</td>\n      <td>0.0</td>\n    </tr>\n    <tr>\n      <th>10</th>\n      <td>WEATHER</td>\n      <td>10</td>\n      <td>[Overcast, Raining, Clear, Snowing, Other, Fog...</td>\n      <td>object</td>\n      <td>0</td>\n      <td>0.0</td>\n    </tr>\n    <tr>\n      <th>11</th>\n      <td>ROADCOND</td>\n      <td>8</td>\n      <td>[Wet, Dry, Snow/Slush, Ice, Other, Sand/Mud/Di...</td>\n      <td>object</td>\n      <td>0</td>\n      <td>0.0</td>\n    </tr>\n    <tr>\n      <th>12</th>\n      <td>LIGHTCOND</td>\n      <td>8</td>\n      <td>[Daylight, Dark - Street Lights On, Dark - No ...</td>\n      <td>object</td>\n      <td>0</td>\n      <td>0.0</td>\n    </tr>\n    <tr>\n      <th>13</th>\n      <td>PEDROWNOTGRNT</td>\n      <td>2</td>\n      <td>[N, Y]</td>\n      <td>object</td>\n      <td>0</td>\n      <td>0.0</td>\n    </tr>\n    <tr>\n      <th>14</th>\n      <td>SPEEDING</td>\n      <td>2</td>\n      <td>[N, Y]</td>\n      <td>object</td>\n      <td>0</td>\n      <td>0.0</td>\n    </tr>\n    <tr>\n      <th>15</th>\n      <td>HITPARKEDCAR</td>\n      <td>2</td>\n      <td>[N, Y]</td>\n      <td>object</td>\n      <td>0</td>\n      <td>0.0</td>\n    </tr>\n  </tbody>\n</table>\n</div>",
                        "text/plain": "           FEATURE  # OF UNIQUE  \\\n0     SEVERITYCODE            2   \n1         ADDRTYPE            3   \n2    COLLISIONTYPE           10   \n3      PERSONCOUNT           47   \n4         PEDCOUNT            7   \n5      PEDCYLCOUNT            3   \n6         VEHCOUNT           13   \n7     JUNCTIONTYPE            7   \n8   INATTENTIONIND            2   \n9        UNDERINFL            2   \n10         WEATHER           10   \n11        ROADCOND            8   \n12       LIGHTCOND            8   \n13   PEDROWNOTGRNT            2   \n14        SPEEDING            2   \n15    HITPARKEDCAR            2   \n\n                            UNIQUE VALUES AS AN ARRAY DATA TYPE  # OF NULLS  \\\n0                                              [2, 1]     int64           0   \n1                        [Intersection, Block, Alley]    object           0   \n2   [Angles, Sideswipe, Parked Car, Other, Cycles,...    object           0   \n3   [2, 4, 3, 0, 5, 6, 1, 16, 8, 7, 11, 9, 12, 17,...     int64           0   \n4                               [0, 1, 2, 3, 4, 5, 6]     int64           0   \n5                                           [0, 1, 2]     int64           0   \n6          [2, 3, 1, 4, 0, 7, 5, 6, 8, 11, 9, 10, 12]     int64           0   \n7   [At Intersection (intersection related), Mid-B...    object           0   \n8                                              [N, Y]    object           0   \n9                                              [N, Y]    object           0   \n10  [Overcast, Raining, Clear, Snowing, Other, Fog...    object           0   \n11  [Wet, Dry, Snow/Slush, Ice, Other, Sand/Mud/Di...    object           0   \n12  [Daylight, Dark - Street Lights On, Dark - No ...    object           0   \n13                                             [N, Y]    object           0   \n14                                             [N, Y]    object           0   \n15                                             [N, Y]    object           0   \n\n    % OF VALUES THAT ARE NULLS  \n0                          0.0  \n1                          0.0  \n2                          0.0  \n3                          0.0  \n4                          0.0  \n5                          0.0  \n6                          0.0  \n7                          0.0  \n8                          0.0  \n9                          0.0  \n10                         0.0  \n11                         0.0  \n12                         0.0  \n13                         0.0  \n14                         0.0  \n15                         0.0  "
                    },
                    "execution_count": 30,
                    "metadata": {},
                    "output_type": "execute_result"
                }
            ],
            "source": "ds = dfd1\ndata5 = []\nfor i in ds.columns:\n    data5.append([i, ds[i].nunique(), ds[i].unique(), ds[i].dtypes, ds[i].isnull().sum(), (ds[i].isnull().sum() / len(ds)) * 100])\n    \ndf5 = pd.DataFrame(data5)\ndf5.columns = ['FEATURE', '# OF UNIQUE', 'UNIQUE VALUES AS AN ARRAY', 'DATA TYPE', '# OF NULLS', '% OF VALUES THAT ARE NULLS']\ndf5"
        },
        {
            "cell_type": "code",
            "execution_count": 31,
            "metadata": {},
            "outputs": [],
            "source": "Z = dfd1.drop(['SEVERITYCODE'], axis = 1)"
        },
        {
            "cell_type": "code",
            "execution_count": 32,
            "metadata": {},
            "outputs": [],
            "source": "# We have to subtract 1 on SEVERITYCODE to get it ready for the logistic regression\n# here 1 means a severity code of 2 (minor injury) and \n# 0 means a severity code of 1 (only property damage)\nY = dfd1['SEVERITYCODE'] - 1"
        },
        {
            "cell_type": "code",
            "execution_count": 33,
            "metadata": {},
            "outputs": [],
            "source": "# We have to get dummies for the following:\n# ADDRTYPE, COLLISIONTYPE, JUNCTIONTYPE, WEATHER, ROADCOND, & LIGHTCOND\ndummy_addrtype = pd.get_dummies(dfd1[\"ADDRTYPE\"])\ndummy_collisiontype = pd.get_dummies(dfd1[\"COLLISIONTYPE\"])\ndummy_junctiontype  = pd.get_dummies(dfd1[\"JUNCTIONTYPE\"])\ndummy_weather = pd.get_dummies(dfd1[\"WEATHER\"])\ndummy_roadcond = pd.get_dummies(dfd1[\"ROADCOND\"])\ndummy_lightcond = pd.get_dummies(dfd1[\"LIGHTCOND\"])\n\n# merging data from dummies into the dataframe\nZ = pd.concat([Z, dummy_addrtype], axis = 1)\nZ = pd.concat([Z, dummy_collisiontype], axis = 1)\nZ = pd.concat([Z, dummy_junctiontype], axis = 1)\nZ = pd.concat([Z, dummy_weather], axis = 1)\nZ = pd.concat([Z, dummy_roadcond], axis = 1)\nZ = pd.concat([Z, dummy_lightcond], axis = 1)\n\n# dropping original categorical variable columns\nZ.drop(\"ADDRTYPE\", axis = 1, inplace = True)\nZ.drop(\"COLLISIONTYPE\", axis = 1, inplace = True)\nZ.drop(\"JUNCTIONTYPE\", axis = 1, inplace = True)\nZ.drop(\"WEATHER\", axis = 1, inplace = True)\nZ.drop(\"ROADCOND\", axis = 1, inplace = True)\nZ.drop(\"LIGHTCOND\", axis = 1, inplace = True)"
        },
        {
            "cell_type": "code",
            "execution_count": 34,
            "metadata": {},
            "outputs": [
                {
                    "data": {
                        "text/plain": "(167845, 55)"
                    },
                    "execution_count": 34,
                    "metadata": {},
                    "output_type": "execute_result"
                }
            ],
            "source": "Z.shape"
        },
        {
            "cell_type": "code",
            "execution_count": 35,
            "metadata": {},
            "outputs": [],
            "source": "# We have to convert yes-no binary features into 0-and-1 binary features:\n# INATTENTIONIND, UNDERINFL, PEDROWNOTGRNT, SPEEDING, HITPARKEDCAR\nZ = Z.replace({'Y':1, 'N':0})"
        },
        {
            "cell_type": "markdown",
            "metadata": {},
            "source": "### Logistic Regression"
        },
        {
            "cell_type": "code",
            "execution_count": 36,
            "metadata": {},
            "outputs": [],
            "source": "import itertools\nfrom sklearn.linear_model import LogisticRegression\nfrom sklearn.model_selection import train_test_split\nfrom sklearn import preprocessing\nfrom sklearn.metrics import confusion_matrix\nfrom sklearn.metrics import jaccard_similarity_score\nfrom sklearn.metrics import classification_report, confusion_matrix\nfrom sklearn.metrics import roc_curve\nfrom sklearn.metrics import roc_auc_score\nfrom sklearn.metrics import f1_score\nfrom sklearn.metrics import log_loss\nimport statsmodels.api as sm"
        },
        {
            "cell_type": "markdown",
            "metadata": {},
            "source": "#### Each Independant Variable vs. Dependent Variable (SEVERITYCODE)"
        },
        {
            "cell_type": "code",
            "execution_count": null,
            "metadata": {},
            "outputs": [],
            "source": "for IV in dfd1.columns:\n    Y1 = Y\n    Z1 = dfd1[IV]\n    Z1.reshape(-1, 1)\n    X_trainLR, X_testLR, y_trainLR, y_testLR = train_test_split(Z1, Y1, test_size=0.2, random_state=4)\n    LR = LogisticRegression(C=0.01, solver='liblinear').fit(X_trainLR, y_trainLR.values.ravel())\n    log_reg = sm.Logit(y_trainLR, X_trainLR).fit(method='bfgs')\n    print(IV, \": \", log_reg.summary())"
        },
        {
            "cell_type": "code",
            "execution_count": 40,
            "metadata": {},
            "outputs": [
                {
                    "ename": "TypeError",
                    "evalue": "Cannot convert bool to numpy.ndarray",
                    "output_type": "error",
                    "traceback": [
                        "\u001b[0;31m---------------------------------------------------------------------------\u001b[0m",
                        "\u001b[0;31mTypeError\u001b[0m                                 Traceback (most recent call last)",
                        "\u001b[0;32m<ipython-input-40-6f4bd8bfdcc5>\u001b[0m in \u001b[0;36m<module>\u001b[0;34m\u001b[0m\n\u001b[0;32m----> 1\u001b[0;31m \u001b[0mZaddrtype\u001b[0m \u001b[0;34m=\u001b[0m \u001b[0mZ\u001b[0m\u001b[0;34m[\u001b[0m\u001b[0;34m'Intersection'\u001b[0m\u001b[0;34m,\u001b[0m \u001b[0;34m'Block'\u001b[0m\u001b[0;34m,\u001b[0m \u001b[0;34m'Alley'\u001b[0m\u001b[0;34m]\u001b[0m\u001b[0;34m\u001b[0m\u001b[0;34m\u001b[0m\u001b[0m\n\u001b[0m\u001b[1;32m      2\u001b[0m \u001b[0mX_trainLR\u001b[0m\u001b[0;34m,\u001b[0m \u001b[0mX_testLR\u001b[0m\u001b[0;34m,\u001b[0m \u001b[0my_trainLR\u001b[0m\u001b[0;34m,\u001b[0m \u001b[0my_testLR\u001b[0m \u001b[0;34m=\u001b[0m \u001b[0mtrain_test_split\u001b[0m\u001b[0;34m(\u001b[0m\u001b[0mZaddrtype\u001b[0m\u001b[0;34m,\u001b[0m \u001b[0mY\u001b[0m\u001b[0;34m,\u001b[0m \u001b[0mtest_size\u001b[0m\u001b[0;34m=\u001b[0m\u001b[0;36m0.2\u001b[0m\u001b[0;34m,\u001b[0m \u001b[0mrandom_state\u001b[0m\u001b[0;34m=\u001b[0m\u001b[0;36m4\u001b[0m\u001b[0;34m)\u001b[0m\u001b[0;34m\u001b[0m\u001b[0;34m\u001b[0m\u001b[0m\n\u001b[1;32m      3\u001b[0m \u001b[0mLR\u001b[0m \u001b[0;34m=\u001b[0m \u001b[0mLogisticRegression\u001b[0m\u001b[0;34m(\u001b[0m\u001b[0mC\u001b[0m\u001b[0;34m=\u001b[0m\u001b[0;36m0.01\u001b[0m\u001b[0;34m,\u001b[0m \u001b[0msolver\u001b[0m\u001b[0;34m=\u001b[0m\u001b[0;34m'liblinear'\u001b[0m\u001b[0;34m)\u001b[0m\u001b[0;34m.\u001b[0m\u001b[0mfit\u001b[0m\u001b[0;34m(\u001b[0m\u001b[0mX_trainLR\u001b[0m\u001b[0;34m,\u001b[0m \u001b[0my_trainLR\u001b[0m\u001b[0;34m.\u001b[0m\u001b[0mvalues\u001b[0m\u001b[0;34m.\u001b[0m\u001b[0mravel\u001b[0m\u001b[0;34m(\u001b[0m\u001b[0;34m)\u001b[0m\u001b[0;34m)\u001b[0m\u001b[0;34m\u001b[0m\u001b[0;34m\u001b[0m\u001b[0m\n\u001b[1;32m      4\u001b[0m \u001b[0mlog_reg\u001b[0m \u001b[0;34m=\u001b[0m \u001b[0msm\u001b[0m\u001b[0;34m.\u001b[0m\u001b[0mLogit\u001b[0m\u001b[0;34m(\u001b[0m\u001b[0my_trainLR\u001b[0m\u001b[0;34m,\u001b[0m \u001b[0mX_trainLR\u001b[0m\u001b[0;34m)\u001b[0m\u001b[0;34m.\u001b[0m\u001b[0mfit\u001b[0m\u001b[0;34m(\u001b[0m\u001b[0mmethod\u001b[0m\u001b[0;34m=\u001b[0m\u001b[0;34m'bfgs'\u001b[0m\u001b[0;34m)\u001b[0m\u001b[0;34m\u001b[0m\u001b[0;34m\u001b[0m\u001b[0m\n\u001b[1;32m      5\u001b[0m \u001b[0mprint\u001b[0m\u001b[0;34m(\u001b[0m\u001b[0;34m\"Address Type: \"\u001b[0m\u001b[0;34m,\u001b[0m \u001b[0mlog_reg\u001b[0m\u001b[0;34m.\u001b[0m\u001b[0msummary\u001b[0m\u001b[0;34m(\u001b[0m\u001b[0;34m)\u001b[0m\u001b[0;34m)\u001b[0m\u001b[0;34m\u001b[0m\u001b[0;34m\u001b[0m\u001b[0m\n",
                        "\u001b[0;32m/opt/conda/envs/Python36/lib/python3.6/site-packages/pandas/core/frame.py\u001b[0m in \u001b[0;36m__getitem__\u001b[0;34m(self, key)\u001b[0m\n\u001b[1;32m   2925\u001b[0m             \u001b[0;32mif\u001b[0m \u001b[0mself\u001b[0m\u001b[0;34m.\u001b[0m\u001b[0mcolumns\u001b[0m\u001b[0;34m.\u001b[0m\u001b[0mnlevels\u001b[0m \u001b[0;34m>\u001b[0m \u001b[0;36m1\u001b[0m\u001b[0;34m:\u001b[0m\u001b[0;34m\u001b[0m\u001b[0;34m\u001b[0m\u001b[0m\n\u001b[1;32m   2926\u001b[0m                 \u001b[0;32mreturn\u001b[0m \u001b[0mself\u001b[0m\u001b[0;34m.\u001b[0m\u001b[0m_getitem_multilevel\u001b[0m\u001b[0;34m(\u001b[0m\u001b[0mkey\u001b[0m\u001b[0;34m)\u001b[0m\u001b[0;34m\u001b[0m\u001b[0;34m\u001b[0m\u001b[0m\n\u001b[0;32m-> 2927\u001b[0;31m             \u001b[0mindexer\u001b[0m \u001b[0;34m=\u001b[0m \u001b[0mself\u001b[0m\u001b[0;34m.\u001b[0m\u001b[0mcolumns\u001b[0m\u001b[0;34m.\u001b[0m\u001b[0mget_loc\u001b[0m\u001b[0;34m(\u001b[0m\u001b[0mkey\u001b[0m\u001b[0;34m)\u001b[0m\u001b[0;34m\u001b[0m\u001b[0;34m\u001b[0m\u001b[0m\n\u001b[0m\u001b[1;32m   2928\u001b[0m             \u001b[0;32mif\u001b[0m \u001b[0mis_integer\u001b[0m\u001b[0;34m(\u001b[0m\u001b[0mindexer\u001b[0m\u001b[0;34m)\u001b[0m\u001b[0;34m:\u001b[0m\u001b[0;34m\u001b[0m\u001b[0;34m\u001b[0m\u001b[0m\n\u001b[1;32m   2929\u001b[0m                 \u001b[0mindexer\u001b[0m \u001b[0;34m=\u001b[0m \u001b[0;34m[\u001b[0m\u001b[0mindexer\u001b[0m\u001b[0;34m]\u001b[0m\u001b[0;34m\u001b[0m\u001b[0;34m\u001b[0m\u001b[0m\n",
                        "\u001b[0;32m/opt/conda/envs/Python36/lib/python3.6/site-packages/pandas/core/indexes/base.py\u001b[0m in \u001b[0;36mget_loc\u001b[0;34m(self, key, method, tolerance)\u001b[0m\n\u001b[1;32m   2654\u001b[0m                                  'backfill or nearest lookups')\n\u001b[1;32m   2655\u001b[0m             \u001b[0;32mtry\u001b[0m\u001b[0;34m:\u001b[0m\u001b[0;34m\u001b[0m\u001b[0;34m\u001b[0m\u001b[0m\n\u001b[0;32m-> 2656\u001b[0;31m                 \u001b[0;32mreturn\u001b[0m \u001b[0mself\u001b[0m\u001b[0;34m.\u001b[0m\u001b[0m_engine\u001b[0m\u001b[0;34m.\u001b[0m\u001b[0mget_loc\u001b[0m\u001b[0;34m(\u001b[0m\u001b[0mkey\u001b[0m\u001b[0;34m)\u001b[0m\u001b[0;34m\u001b[0m\u001b[0;34m\u001b[0m\u001b[0m\n\u001b[0m\u001b[1;32m   2657\u001b[0m             \u001b[0;32mexcept\u001b[0m \u001b[0mKeyError\u001b[0m\u001b[0;34m:\u001b[0m\u001b[0;34m\u001b[0m\u001b[0;34m\u001b[0m\u001b[0m\n\u001b[1;32m   2658\u001b[0m                 \u001b[0;32mreturn\u001b[0m \u001b[0mself\u001b[0m\u001b[0;34m.\u001b[0m\u001b[0m_engine\u001b[0m\u001b[0;34m.\u001b[0m\u001b[0mget_loc\u001b[0m\u001b[0;34m(\u001b[0m\u001b[0mself\u001b[0m\u001b[0;34m.\u001b[0m\u001b[0m_maybe_cast_indexer\u001b[0m\u001b[0;34m(\u001b[0m\u001b[0mkey\u001b[0m\u001b[0;34m)\u001b[0m\u001b[0;34m)\u001b[0m\u001b[0;34m\u001b[0m\u001b[0;34m\u001b[0m\u001b[0m\n",
                        "\u001b[0;32mpandas/_libs/index.pyx\u001b[0m in \u001b[0;36mpandas._libs.index.IndexEngine.get_loc\u001b[0;34m()\u001b[0m\n",
                        "\u001b[0;32mpandas/_libs/index.pyx\u001b[0m in \u001b[0;36mpandas._libs.index.IndexEngine.get_loc\u001b[0;34m()\u001b[0m\n",
                        "\u001b[0;32mpandas/_libs/index.pyx\u001b[0m in \u001b[0;36mpandas._libs.index.IndexEngine._get_loc_duplicates\u001b[0;34m()\u001b[0m\n",
                        "\u001b[0;32mpandas/_libs/index.pyx\u001b[0m in \u001b[0;36mpandas._libs.index.IndexEngine._maybe_get_bool_indexer\u001b[0;34m()\u001b[0m\n",
                        "\u001b[0;31mTypeError\u001b[0m: Cannot convert bool to numpy.ndarray"
                    ]
                }
            ],
            "source": "Zaddrtype = Z['Intersection', 'Block', 'Alley']\nX_trainLR, X_testLR, y_trainLR, y_testLR = train_test_split(Zaddrtype, Y, test_size=0.2, random_state=4)\nLR = LogisticRegression(C=0.01, solver='liblinear').fit(X_trainLR, y_trainLR.values.ravel())\nlog_reg = sm.Logit(y_trainLR, X_trainLR).fit(method='bfgs')\nprint(\"Address Type: \", log_reg.summary())"
        },
        {
            "cell_type": "markdown",
            "metadata": {},
            "source": "#### Final Logistic Regression with correlated Independant Variables"
        },
        {
            "cell_type": "code",
            "execution_count": 128,
            "metadata": {},
            "outputs": [
                {
                    "name": "stdout",
                    "output_type": "stream",
                    "text": "Train set: (134276, 55) (134276,)\nTest set: (33569, 55) (33569,)\n"
                }
            ],
            "source": "X_trainLR, X_testLR, y_trainLR, y_testLR = train_test_split(Z, Y, test_size=0.2, random_state=4)\nprint ('Train set:', X_trainLR.shape,  y_trainLR.shape)\nprint ('Test set:', X_testLR.shape,  y_testLR.shape)"
        },
        {
            "cell_type": "code",
            "execution_count": 129,
            "metadata": {},
            "outputs": [],
            "source": "LR = LogisticRegression(C=0.01, solver='liblinear').fit(X_trainLR, y_trainLR.values.ravel())"
        },
        {
            "cell_type": "code",
            "execution_count": 130,
            "metadata": {},
            "outputs": [
                {
                    "name": "stdout",
                    "output_type": "stream",
                    "text": "F1 Score:  0.6917276355198448\nJaccard Score:  0.7335041258303793\nLog Loss:  0.5225627454475619\n"
                }
            ],
            "source": "yhatLR = LR.predict(X_testLR)\nyhat_probLR = LR.predict_proba(X_testLR)\njaccard_similarity_score(y_testLR, yhatLR)\nprint(\"F1 Score: \", f1_score(y_testLR, yhatLR, average='weighted')) \nprint(\"Jaccard Score: \", jaccard_similarity_score(y_testLR, yhatLR))\nprint(\"Log Loss: \", log_loss(y_testLR, yhat_probLR))"
        },
        {
            "cell_type": "code",
            "execution_count": 131,
            "metadata": {},
            "outputs": [],
            "source": "# define function to plot a confusion matrix\ndef plot_confusion_matrix(cm, classes,\n                          normalize=False,\n                          title='Confusion matrix',\n                          cmap=plt.cm.Blues):\n    \"\"\"\n    This function prints and plots the confusion matrix.\n    Normalization can be applied by setting `normalize=True`.\n    \"\"\"\n    if normalize:\n        cm = cm.astype('float') / cm.sum(axis=1)[:, np.newaxis]\n        print(\"Normalized confusion matrix\")\n    else:\n        print('Confusion matrix, without normalization')\n\n    print(cm)\n\n    plt.imshow(cm, interpolation='nearest', cmap=cmap)\n    plt.title(title)\n    plt.colorbar()\n    tick_marks = np.arange(len(classes))\n    plt.xticks(tick_marks, classes, rotation=45)\n    plt.yticks(tick_marks, classes)\n\n    fmt = '.2f' if normalize else 'd'\n    thresh = cm.max() / 2.\n    for i, j in itertools.product(range(cm.shape[0]), range(cm.shape[1])):\n        plt.text(j, i, format(cm[i, j], fmt),\n                 horizontalalignment=\"center\",\n                 color=\"white\" if cm[i, j] > thresh else \"black\")\n\n    plt.tight_layout()\n    plt.ylabel('True label')\n    plt.xlabel('Predicted label')"
        },
        {
            "cell_type": "code",
            "execution_count": 132,
            "metadata": {},
            "outputs": [
                {
                    "name": "stdout",
                    "output_type": "stream",
                    "text": "Confusion matrix, without normalization\n[[ 3170  7871]\n [ 1075 21453]]\n"
                },
                {
                    "data": {
                        "image/png": "[encoded data removed]",
                        "text/plain": "<Figure size 432x288 with 2 Axes>"
                    },
                    "metadata": {
                        "needs_background": "light"
                    },
                    "output_type": "display_data"
                }
            ],
            "source": "# Compute confusion matrix\ncnf_matrix = confusion_matrix(y_testLR, yhatLR, labels=[1,0])\nnp.set_printoptions(precision=2)\n\n# Plot non-normalized confusion matrix\nplt.figure()\nplot_confusion_matrix(cnf_matrix, classes=['severity=2','severity=1'],normalize= False,  title='Confusion matrix')"
        },
        {
            "cell_type": "code",
            "execution_count": 133,
            "metadata": {},
            "outputs": [
                {
                    "name": "stdout",
                    "output_type": "stream",
                    "text": "Warning: Maximum number of iterations has been exceeded.\n         Current function value: 0.521807\n         Iterations: 35\n         Function evaluations: 37\n         Gradient evaluations: 37\n"
                },
                {
                    "name": "stderr",
                    "output_type": "stream",
                    "text": "/opt/conda/envs/Python36/lib/python3.6/site-packages/statsmodels/base/model.py:488: HessianInversionWarning: Inverting hessian failed, no bse or cov_params available\n  'available', HessianInversionWarning)\n/opt/conda/envs/Python36/lib/python3.6/site-packages/statsmodels/base/model.py:508: ConvergenceWarning: Maximum Likelihood optimization failed to converge. Check mle_retvals\n  \"Check mle_retvals\", ConvergenceWarning)\n"
                }
            ],
            "source": "log_reg = sm.Logit(y_trainLR, X_trainLR).fit(method='bfgs')"
        },
        {
            "cell_type": "code",
            "execution_count": 134,
            "metadata": {},
            "outputs": [
                {
                    "name": "stderr",
                    "output_type": "stream",
                    "text": "/opt/conda/envs/Python36/lib/python3.6/site-packages/scipy/stats/_distn_infrastructure.py:877: RuntimeWarning: invalid value encountered in greater\n  return (self.a < x) & (x < self.b)\n/opt/conda/envs/Python36/lib/python3.6/site-packages/scipy/stats/_distn_infrastructure.py:877: RuntimeWarning: invalid value encountered in less\n  return (self.a < x) & (x < self.b)\n/opt/conda/envs/Python36/lib/python3.6/site-packages/scipy/stats/_distn_infrastructure.py:1831: RuntimeWarning: invalid value encountered in less_equal\n  cond2 = cond0 & (x <= self.a)\n"
                },
                {
                    "name": "stdout",
                    "output_type": "stream",
                    "text": "                           Logit Regression Results                           \n==============================================================================\nDep. Variable:           SEVERITYCODE   No. Observations:               134276\nModel:                          Logit   Df Residuals:                   134226\nMethod:                           MLE   Df Model:                           49\nDate:                Mon, 12 Oct 2020   Pseudo R-squ.:                  0.1780\nTime:                        20:55:03   Log-Likelihood:                -70066.\nconverged:                      False   LL-Null:                       -85241.\n                                        LLR p-value:                     0.000\n=====================================================================================================================\n                                                        coef    std err          z      P>|z|      [0.025      0.975]\n---------------------------------------------------------------------------------------------------------------------\nPERSONCOUNT                                           0.1321        nan        nan        nan         nan         nan\nPEDCOUNT                                              1.4906        nan        nan        nan         nan         nan\nPEDCYLCOUNT                                           1.3502        nan        nan        nan         nan         nan\nVEHCOUNT                                              0.2829        nan        nan        nan         nan         nan\nINATTENTIONIND                                        0.1548        nan        nan        nan         nan         nan\nUNDERINFL                                             0.6207        nan        nan        nan         nan         nan\nPEDROWNOTGRNT                                         0.7332        nan        nan        nan         nan         nan\nSPEEDING                                              0.4439        nan        nan        nan         nan         nan\nHITPARKEDCAR                                         -0.1551        nan        nan        nan         nan         nan\nAlley                                                -0.0490        nan        nan        nan         nan         nan\nBlock                                                -0.5517        nan        nan        nan         nan         nan\nIntersection                                         -0.3787        nan        nan        nan         nan         nan\nAngles                                                0.0156        nan        nan        nan         nan         nan\nCycles                                                1.2981        nan        nan        nan         nan         nan\nHead On                                               0.2462        nan        nan        nan         nan         nan\nLeft Turn                                             0.1163        nan        nan        nan         nan         nan\nOther                                                -0.3184        nan        nan        nan         nan         nan\nParked Car                                           -1.9769        nan        nan        nan         nan         nan\nPedestrian                                            1.2745        nan        nan        nan         nan         nan\nRear Ended                                            0.1880        nan        nan        nan         nan         nan\nRight Turn                                           -0.5205        nan        nan        nan         nan         nan\nSideswipe                                            -1.3023        nan        nan        nan         nan         nan\nAt Intersection (but not related to intersection)    -0.1744        nan        nan        nan         nan         nan\nAt Intersection (intersection related)               -0.2018        nan        nan        nan         nan         nan\nDriveway Junction                                    -0.1865        nan        nan        nan         nan         nan\nMid-Block (but intersection related)                 -0.2395        nan        nan        nan         nan         nan\nMid-Block (not related to intersection)              -0.1637        nan        nan        nan         nan         nan\nRamp Junction                                        -0.0132        nan        nan        nan         nan         nan\nUnknown                                              -0.0001        nan        nan        nan         nan         nan\nBlowing Sand/Dirt                                     0.0010        nan        nan        nan         nan         nan\nClear                                                -0.2252        nan        nan        nan         nan         nan\nFog/Smog/Smoke                                       -0.0231        nan        nan        nan         nan         nan\nOther                                                 0.0025        nan        nan        nan         nan         nan\nOvercast                                             -0.2946        nan        nan        nan         nan         nan\nPartly Cloudy                                         0.0024        nan        nan        nan         nan         nan\nRaining                                              -0.2800        nan        nan        nan         nan         nan\nSevere Crosswind                                     -0.0014        nan        nan        nan         nan         nan\nSleet/Hail/Freezing Rain                             -0.0294        nan        nan        nan         nan         nan\nSnowing                                              -0.1315        nan        nan        nan         nan         nan\nDry                                                  -0.3311        nan        nan        nan         nan         nan\nIce                                                  -0.1143        nan        nan        nan         nan         nan\nOil                                                   0.0084        nan        nan        nan         nan         nan\nOther                                                 0.0039        nan        nan        nan         nan         nan\nSand/Mud/Dirt                                         0.0043        nan        nan        nan         nan         nan\nSnow/Slush                                           -0.1524        nan        nan        nan         nan         nan\nStanding Water                                       -0.0161        nan        nan        nan         nan         nan\nWet                                                  -0.3821        nan        nan        nan         nan         nan\nDark - No Street Lights                              -0.1125        nan        nan        nan         nan         nan\nDark - Street Lights Off                             -0.0628        nan        nan        nan         nan         nan\nDark - Street Lights On                              -0.3064        nan        nan        nan         nan         nan\nDark - Unknown Lighting                               0.0006        nan        nan        nan         nan         nan\nDawn                                                 -0.0978        nan        nan        nan         nan         nan\nDaylight                                             -0.2391        nan        nan        nan         nan         nan\nDusk                                                 -0.1632        nan        nan        nan         nan         nan\nOther                                                 0.0017        nan        nan        nan         nan         nan\n=====================================================================================================================\n"
                }
            ],
            "source": "print(log_reg.summary())"
        },
        {
            "cell_type": "markdown",
            "metadata": {},
            "source": "#### ROC Curve"
        },
        {
            "cell_type": "code",
            "execution_count": 135,
            "metadata": {},
            "outputs": [
                {
                    "name": "stdout",
                    "output_type": "stream",
                    "text": "[0.38 0.39 0.37 ... 0.42 0.21 0.8 ]\n"
                }
            ],
            "source": "yhat_probsLR = yhat_probLR[:, 1]\nprint(yhat_probsLR)"
        },
        {
            "cell_type": "code",
            "execution_count": 136,
            "metadata": {},
            "outputs": [
                {
                    "name": "stdout",
                    "output_type": "stream",
                    "text": "AUC: 0.76\n"
                }
            ],
            "source": "aucLR = roc_auc_score(y_testLR, yhat_probsLR)\nprint('AUC: %.2f' % aucLR)"
        },
        {
            "cell_type": "code",
            "execution_count": 137,
            "metadata": {},
            "outputs": [],
            "source": "fprLR, tprLR, thresholdsLR = roc_curve(y_testLR, yhat_probsLR, pos_label = 1)"
        },
        {
            "cell_type": "code",
            "execution_count": 138,
            "metadata": {},
            "outputs": [
                {
                    "data": {
                        "image/png": "[encoded data removed]",
                        "text/plain": "<Figure size 432x288 with 1 Axes>"
                    },
                    "metadata": {
                        "needs_background": "light"
                    },
                    "output_type": "display_data"
                }
            ],
            "source": "plt.plot(fprLR, tprLR, color='#87ceeb', label='Logistic Regression')\nplt.plot([0, 1], [0, 1], color='darkblue', linestyle='--')\nplt.xlabel('False Positive Rate')\nplt.ylabel('True Positive Rate')\nplt.title('Receiver Operating Characteristic (ROC) Curve')\nplt.legend()\nplt.show()"
        },
        {
            "cell_type": "code",
            "execution_count": null,
            "metadata": {},
            "outputs": [],
            "source": ""
        }
    ],
    "metadata": {
        "kernelspec": {
            "display_name": "Python 3.6",
            "language": "python",
            "name": "python3"
        },
        "language_info": {
            "codemirror_mode": {
                "name": "ipython",
                "version": 3
            },
            "file_extension": ".py",
            "mimetype": "text/x-python",
            "name": "python",
            "nbconvert_exporter": "python",
            "pygments_lexer": "ipython3",
            "version": "3.6.9"
        }
    },
    "nbformat": 4,
    "nbformat_minor": 1
}